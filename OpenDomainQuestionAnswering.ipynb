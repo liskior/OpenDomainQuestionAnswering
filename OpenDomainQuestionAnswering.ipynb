{
  "nbformat": 4,
  "nbformat_minor": 0,
  "metadata": {
    "colab": {
      "name": "OpenDomainQuestionAnswering.ipynb",
      "provenance": [],
      "collapsed_sections": [],
      "machine_shape": "hm"
    },
    "kernelspec": {
      "name": "python3",
      "display_name": "Python 3"
    },
    "accelerator": "GPU",
    "widgets": {
      "application/vnd.jupyter.widget-state+json": {
        "176d9d8164d34bef95d2226b37a628c7": {
          "model_module": "@jupyter-widgets/controls",
          "model_name": "HBoxModel",
          "state": {
            "_view_name": "HBoxView",
            "_dom_classes": [],
            "_model_name": "HBoxModel",
            "_view_module": "@jupyter-widgets/controls",
            "_model_module_version": "1.5.0",
            "_view_count": null,
            "_view_module_version": "1.5.0",
            "box_style": "",
            "layout": "IPY_MODEL_8140662a43044790b362010dc0bf2757",
            "_model_module": "@jupyter-widgets/controls",
            "children": [
              "IPY_MODEL_0ab737219bdb4cc78624691acc1e5926",
              "IPY_MODEL_76fc986d4d074c53bdc46d8fbd00eefd"
            ]
          }
        },
        "8140662a43044790b362010dc0bf2757": {
          "model_module": "@jupyter-widgets/base",
          "model_name": "LayoutModel",
          "state": {
            "_view_name": "LayoutView",
            "grid_template_rows": null,
            "right": null,
            "justify_content": null,
            "_view_module": "@jupyter-widgets/base",
            "overflow": null,
            "_model_module_version": "1.2.0",
            "_view_count": null,
            "flex_flow": null,
            "width": null,
            "min_width": null,
            "border": null,
            "align_items": null,
            "bottom": null,
            "_model_module": "@jupyter-widgets/base",
            "top": null,
            "grid_column": null,
            "overflow_y": null,
            "overflow_x": null,
            "grid_auto_flow": null,
            "grid_area": null,
            "grid_template_columns": null,
            "flex": null,
            "_model_name": "LayoutModel",
            "justify_items": null,
            "grid_row": null,
            "max_height": null,
            "align_content": null,
            "visibility": null,
            "align_self": null,
            "height": null,
            "min_height": null,
            "padding": null,
            "grid_auto_rows": null,
            "grid_gap": null,
            "max_width": null,
            "order": null,
            "_view_module_version": "1.2.0",
            "grid_template_areas": null,
            "object_position": null,
            "object_fit": null,
            "grid_auto_columns": null,
            "margin": null,
            "display": null,
            "left": null
          }
        },
        "0ab737219bdb4cc78624691acc1e5926": {
          "model_module": "@jupyter-widgets/controls",
          "model_name": "FloatProgressModel",
          "state": {
            "_view_name": "ProgressView",
            "style": "IPY_MODEL_7b3b341f70494b00814ba4898706e5f0",
            "_dom_classes": [],
            "description": "Downloading: 100%",
            "_model_name": "FloatProgressModel",
            "bar_style": "success",
            "max": 231508,
            "_view_module": "@jupyter-widgets/controls",
            "_model_module_version": "1.5.0",
            "value": 231508,
            "_view_count": null,
            "_view_module_version": "1.5.0",
            "orientation": "horizontal",
            "min": 0,
            "description_tooltip": null,
            "_model_module": "@jupyter-widgets/controls",
            "layout": "IPY_MODEL_256b2ff6161046db8f10362ffd50934b"
          }
        },
        "76fc986d4d074c53bdc46d8fbd00eefd": {
          "model_module": "@jupyter-widgets/controls",
          "model_name": "HTMLModel",
          "state": {
            "_view_name": "HTMLView",
            "style": "IPY_MODEL_0c55f89b070d4adca556080d0a3a78e1",
            "_dom_classes": [],
            "description": "",
            "_model_name": "HTMLModel",
            "placeholder": "​",
            "_view_module": "@jupyter-widgets/controls",
            "_model_module_version": "1.5.0",
            "value": " 232k/232k [00:00&lt;00:00, 1.44MB/s]",
            "_view_count": null,
            "_view_module_version": "1.5.0",
            "description_tooltip": null,
            "_model_module": "@jupyter-widgets/controls",
            "layout": "IPY_MODEL_2a868fb4b42140d2b57f7f359f8b60ee"
          }
        },
        "7b3b341f70494b00814ba4898706e5f0": {
          "model_module": "@jupyter-widgets/controls",
          "model_name": "ProgressStyleModel",
          "state": {
            "_view_name": "StyleView",
            "_model_name": "ProgressStyleModel",
            "description_width": "initial",
            "_view_module": "@jupyter-widgets/base",
            "_model_module_version": "1.5.0",
            "_view_count": null,
            "_view_module_version": "1.2.0",
            "bar_color": null,
            "_model_module": "@jupyter-widgets/controls"
          }
        },
        "256b2ff6161046db8f10362ffd50934b": {
          "model_module": "@jupyter-widgets/base",
          "model_name": "LayoutModel",
          "state": {
            "_view_name": "LayoutView",
            "grid_template_rows": null,
            "right": null,
            "justify_content": null,
            "_view_module": "@jupyter-widgets/base",
            "overflow": null,
            "_model_module_version": "1.2.0",
            "_view_count": null,
            "flex_flow": null,
            "width": null,
            "min_width": null,
            "border": null,
            "align_items": null,
            "bottom": null,
            "_model_module": "@jupyter-widgets/base",
            "top": null,
            "grid_column": null,
            "overflow_y": null,
            "overflow_x": null,
            "grid_auto_flow": null,
            "grid_area": null,
            "grid_template_columns": null,
            "flex": null,
            "_model_name": "LayoutModel",
            "justify_items": null,
            "grid_row": null,
            "max_height": null,
            "align_content": null,
            "visibility": null,
            "align_self": null,
            "height": null,
            "min_height": null,
            "padding": null,
            "grid_auto_rows": null,
            "grid_gap": null,
            "max_width": null,
            "order": null,
            "_view_module_version": "1.2.0",
            "grid_template_areas": null,
            "object_position": null,
            "object_fit": null,
            "grid_auto_columns": null,
            "margin": null,
            "display": null,
            "left": null
          }
        },
        "0c55f89b070d4adca556080d0a3a78e1": {
          "model_module": "@jupyter-widgets/controls",
          "model_name": "DescriptionStyleModel",
          "state": {
            "_view_name": "StyleView",
            "_model_name": "DescriptionStyleModel",
            "description_width": "",
            "_view_module": "@jupyter-widgets/base",
            "_model_module_version": "1.5.0",
            "_view_count": null,
            "_view_module_version": "1.2.0",
            "_model_module": "@jupyter-widgets/controls"
          }
        },
        "2a868fb4b42140d2b57f7f359f8b60ee": {
          "model_module": "@jupyter-widgets/base",
          "model_name": "LayoutModel",
          "state": {
            "_view_name": "LayoutView",
            "grid_template_rows": null,
            "right": null,
            "justify_content": null,
            "_view_module": "@jupyter-widgets/base",
            "overflow": null,
            "_model_module_version": "1.2.0",
            "_view_count": null,
            "flex_flow": null,
            "width": null,
            "min_width": null,
            "border": null,
            "align_items": null,
            "bottom": null,
            "_model_module": "@jupyter-widgets/base",
            "top": null,
            "grid_column": null,
            "overflow_y": null,
            "overflow_x": null,
            "grid_auto_flow": null,
            "grid_area": null,
            "grid_template_columns": null,
            "flex": null,
            "_model_name": "LayoutModel",
            "justify_items": null,
            "grid_row": null,
            "max_height": null,
            "align_content": null,
            "visibility": null,
            "align_self": null,
            "height": null,
            "min_height": null,
            "padding": null,
            "grid_auto_rows": null,
            "grid_gap": null,
            "max_width": null,
            "order": null,
            "_view_module_version": "1.2.0",
            "grid_template_areas": null,
            "object_position": null,
            "object_fit": null,
            "grid_auto_columns": null,
            "margin": null,
            "display": null,
            "left": null
          }
        },
        "d3c7b843bcf8421c8d71ba2992b9f586": {
          "model_module": "@jupyter-widgets/controls",
          "model_name": "HBoxModel",
          "state": {
            "_view_name": "HBoxView",
            "_dom_classes": [],
            "_model_name": "HBoxModel",
            "_view_module": "@jupyter-widgets/controls",
            "_model_module_version": "1.5.0",
            "_view_count": null,
            "_view_module_version": "1.5.0",
            "box_style": "",
            "layout": "IPY_MODEL_d79cef3b1b6b4471880641747e5067da",
            "_model_module": "@jupyter-widgets/controls",
            "children": [
              "IPY_MODEL_78729154b9144358982e3e14339c8c28",
              "IPY_MODEL_a840692268474dbbbcc5b52801360a15"
            ]
          }
        },
        "d79cef3b1b6b4471880641747e5067da": {
          "model_module": "@jupyter-widgets/base",
          "model_name": "LayoutModel",
          "state": {
            "_view_name": "LayoutView",
            "grid_template_rows": null,
            "right": null,
            "justify_content": null,
            "_view_module": "@jupyter-widgets/base",
            "overflow": null,
            "_model_module_version": "1.2.0",
            "_view_count": null,
            "flex_flow": null,
            "width": null,
            "min_width": null,
            "border": null,
            "align_items": null,
            "bottom": null,
            "_model_module": "@jupyter-widgets/base",
            "top": null,
            "grid_column": null,
            "overflow_y": null,
            "overflow_x": null,
            "grid_auto_flow": null,
            "grid_area": null,
            "grid_template_columns": null,
            "flex": null,
            "_model_name": "LayoutModel",
            "justify_items": null,
            "grid_row": null,
            "max_height": null,
            "align_content": null,
            "visibility": null,
            "align_self": null,
            "height": null,
            "min_height": null,
            "padding": null,
            "grid_auto_rows": null,
            "grid_gap": null,
            "max_width": null,
            "order": null,
            "_view_module_version": "1.2.0",
            "grid_template_areas": null,
            "object_position": null,
            "object_fit": null,
            "grid_auto_columns": null,
            "margin": null,
            "display": null,
            "left": null
          }
        },
        "78729154b9144358982e3e14339c8c28": {
          "model_module": "@jupyter-widgets/controls",
          "model_name": "FloatProgressModel",
          "state": {
            "_view_name": "ProgressView",
            "style": "IPY_MODEL_34ebf3c25cef4a698eeecb134c9357bb",
            "_dom_classes": [],
            "description": "Dl Completed...: 100%",
            "_model_name": "FloatProgressModel",
            "bar_style": "success",
            "max": 1,
            "_view_module": "@jupyter-widgets/controls",
            "_model_module_version": "1.5.0",
            "value": 1,
            "_view_count": null,
            "_view_module_version": "1.5.0",
            "orientation": "horizontal",
            "min": 0,
            "description_tooltip": null,
            "_model_module": "@jupyter-widgets/controls",
            "layout": "IPY_MODEL_cc37157752444a38b90729c560a4a70a"
          }
        },
        "a840692268474dbbbcc5b52801360a15": {
          "model_module": "@jupyter-widgets/controls",
          "model_name": "HTMLModel",
          "state": {
            "_view_name": "HTMLView",
            "style": "IPY_MODEL_703c2cfb3dd44d4dbace39379bf9b7b5",
            "_dom_classes": [],
            "description": "",
            "_model_name": "HTMLModel",
            "placeholder": "​",
            "_view_module": "@jupyter-widgets/controls",
            "_model_module_version": "1.5.0",
            "value": " 2/2 [00:01&lt;00:00,  1.38 url/s]",
            "_view_count": null,
            "_view_module_version": "1.5.0",
            "description_tooltip": null,
            "_model_module": "@jupyter-widgets/controls",
            "layout": "IPY_MODEL_1fc63d719f1343cfb14a361852a1dfc9"
          }
        },
        "34ebf3c25cef4a698eeecb134c9357bb": {
          "model_module": "@jupyter-widgets/controls",
          "model_name": "ProgressStyleModel",
          "state": {
            "_view_name": "StyleView",
            "_model_name": "ProgressStyleModel",
            "description_width": "initial",
            "_view_module": "@jupyter-widgets/base",
            "_model_module_version": "1.5.0",
            "_view_count": null,
            "_view_module_version": "1.2.0",
            "bar_color": null,
            "_model_module": "@jupyter-widgets/controls"
          }
        },
        "cc37157752444a38b90729c560a4a70a": {
          "model_module": "@jupyter-widgets/base",
          "model_name": "LayoutModel",
          "state": {
            "_view_name": "LayoutView",
            "grid_template_rows": null,
            "right": null,
            "justify_content": null,
            "_view_module": "@jupyter-widgets/base",
            "overflow": null,
            "_model_module_version": "1.2.0",
            "_view_count": null,
            "flex_flow": null,
            "width": null,
            "min_width": null,
            "border": null,
            "align_items": null,
            "bottom": null,
            "_model_module": "@jupyter-widgets/base",
            "top": null,
            "grid_column": null,
            "overflow_y": null,
            "overflow_x": null,
            "grid_auto_flow": null,
            "grid_area": null,
            "grid_template_columns": null,
            "flex": null,
            "_model_name": "LayoutModel",
            "justify_items": null,
            "grid_row": null,
            "max_height": null,
            "align_content": null,
            "visibility": null,
            "align_self": null,
            "height": null,
            "min_height": null,
            "padding": null,
            "grid_auto_rows": null,
            "grid_gap": null,
            "max_width": null,
            "order": null,
            "_view_module_version": "1.2.0",
            "grid_template_areas": null,
            "object_position": null,
            "object_fit": null,
            "grid_auto_columns": null,
            "margin": null,
            "display": null,
            "left": null
          }
        },
        "703c2cfb3dd44d4dbace39379bf9b7b5": {
          "model_module": "@jupyter-widgets/controls",
          "model_name": "DescriptionStyleModel",
          "state": {
            "_view_name": "StyleView",
            "_model_name": "DescriptionStyleModel",
            "description_width": "",
            "_view_module": "@jupyter-widgets/base",
            "_model_module_version": "1.5.0",
            "_view_count": null,
            "_view_module_version": "1.2.0",
            "_model_module": "@jupyter-widgets/controls"
          }
        },
        "1fc63d719f1343cfb14a361852a1dfc9": {
          "model_module": "@jupyter-widgets/base",
          "model_name": "LayoutModel",
          "state": {
            "_view_name": "LayoutView",
            "grid_template_rows": null,
            "right": null,
            "justify_content": null,
            "_view_module": "@jupyter-widgets/base",
            "overflow": null,
            "_model_module_version": "1.2.0",
            "_view_count": null,
            "flex_flow": null,
            "width": null,
            "min_width": null,
            "border": null,
            "align_items": null,
            "bottom": null,
            "_model_module": "@jupyter-widgets/base",
            "top": null,
            "grid_column": null,
            "overflow_y": null,
            "overflow_x": null,
            "grid_auto_flow": null,
            "grid_area": null,
            "grid_template_columns": null,
            "flex": null,
            "_model_name": "LayoutModel",
            "justify_items": null,
            "grid_row": null,
            "max_height": null,
            "align_content": null,
            "visibility": null,
            "align_self": null,
            "height": null,
            "min_height": null,
            "padding": null,
            "grid_auto_rows": null,
            "grid_gap": null,
            "max_width": null,
            "order": null,
            "_view_module_version": "1.2.0",
            "grid_template_areas": null,
            "object_position": null,
            "object_fit": null,
            "grid_auto_columns": null,
            "margin": null,
            "display": null,
            "left": null
          }
        },
        "966ee60cc8c447b48b8cd89ff52034b2": {
          "model_module": "@jupyter-widgets/controls",
          "model_name": "HBoxModel",
          "state": {
            "_view_name": "HBoxView",
            "_dom_classes": [],
            "_model_name": "HBoxModel",
            "_view_module": "@jupyter-widgets/controls",
            "_model_module_version": "1.5.0",
            "_view_count": null,
            "_view_module_version": "1.5.0",
            "box_style": "",
            "layout": "IPY_MODEL_dbc51bf568f245cc9ba1d5c7a2b2a499",
            "_model_module": "@jupyter-widgets/controls",
            "children": [
              "IPY_MODEL_ac976d95f3a143f88eb98f41cb607e5d",
              "IPY_MODEL_9a71f24c57dc401c80336041d5e4422d"
            ]
          }
        },
        "dbc51bf568f245cc9ba1d5c7a2b2a499": {
          "model_module": "@jupyter-widgets/base",
          "model_name": "LayoutModel",
          "state": {
            "_view_name": "LayoutView",
            "grid_template_rows": null,
            "right": null,
            "justify_content": null,
            "_view_module": "@jupyter-widgets/base",
            "overflow": null,
            "_model_module_version": "1.2.0",
            "_view_count": null,
            "flex_flow": null,
            "width": null,
            "min_width": null,
            "border": null,
            "align_items": null,
            "bottom": null,
            "_model_module": "@jupyter-widgets/base",
            "top": null,
            "grid_column": null,
            "overflow_y": null,
            "overflow_x": null,
            "grid_auto_flow": null,
            "grid_area": null,
            "grid_template_columns": null,
            "flex": null,
            "_model_name": "LayoutModel",
            "justify_items": null,
            "grid_row": null,
            "max_height": null,
            "align_content": null,
            "visibility": null,
            "align_self": null,
            "height": null,
            "min_height": null,
            "padding": null,
            "grid_auto_rows": null,
            "grid_gap": null,
            "max_width": null,
            "order": null,
            "_view_module_version": "1.2.0",
            "grid_template_areas": null,
            "object_position": null,
            "object_fit": null,
            "grid_auto_columns": null,
            "margin": null,
            "display": null,
            "left": null
          }
        },
        "ac976d95f3a143f88eb98f41cb607e5d": {
          "model_module": "@jupyter-widgets/controls",
          "model_name": "FloatProgressModel",
          "state": {
            "_view_name": "ProgressView",
            "style": "IPY_MODEL_02d961da358345ffb0b3252d7f6b1eee",
            "_dom_classes": [],
            "description": "Dl Size...: ",
            "_model_name": "FloatProgressModel",
            "bar_style": "success",
            "max": 1,
            "_view_module": "@jupyter-widgets/controls",
            "_model_module_version": "1.5.0",
            "value": 1,
            "_view_count": null,
            "_view_module_version": "1.5.0",
            "orientation": "horizontal",
            "min": 0,
            "description_tooltip": null,
            "_model_module": "@jupyter-widgets/controls",
            "layout": "IPY_MODEL_e24fd13f1bf04fd89f51235b51dd7a56"
          }
        },
        "9a71f24c57dc401c80336041d5e4422d": {
          "model_module": "@jupyter-widgets/controls",
          "model_name": "HTMLModel",
          "state": {
            "_view_name": "HTMLView",
            "style": "IPY_MODEL_fb6caef1ccc7439597f1dd578b1588b8",
            "_dom_classes": [],
            "description": "",
            "_model_name": "HTMLModel",
            "placeholder": "​",
            "_view_module": "@jupyter-widgets/controls",
            "_model_module_version": "1.5.0",
            "value": " 32/? [00:01&lt;00:00, 22.46 MiB/s]",
            "_view_count": null,
            "_view_module_version": "1.5.0",
            "description_tooltip": null,
            "_model_module": "@jupyter-widgets/controls",
            "layout": "IPY_MODEL_fe8560c1da9e453eab000704ef9648e8"
          }
        },
        "02d961da358345ffb0b3252d7f6b1eee": {
          "model_module": "@jupyter-widgets/controls",
          "model_name": "ProgressStyleModel",
          "state": {
            "_view_name": "StyleView",
            "_model_name": "ProgressStyleModel",
            "description_width": "initial",
            "_view_module": "@jupyter-widgets/base",
            "_model_module_version": "1.5.0",
            "_view_count": null,
            "_view_module_version": "1.2.0",
            "bar_color": null,
            "_model_module": "@jupyter-widgets/controls"
          }
        },
        "e24fd13f1bf04fd89f51235b51dd7a56": {
          "model_module": "@jupyter-widgets/base",
          "model_name": "LayoutModel",
          "state": {
            "_view_name": "LayoutView",
            "grid_template_rows": null,
            "right": null,
            "justify_content": null,
            "_view_module": "@jupyter-widgets/base",
            "overflow": null,
            "_model_module_version": "1.2.0",
            "_view_count": null,
            "flex_flow": null,
            "width": null,
            "min_width": null,
            "border": null,
            "align_items": null,
            "bottom": null,
            "_model_module": "@jupyter-widgets/base",
            "top": null,
            "grid_column": null,
            "overflow_y": null,
            "overflow_x": null,
            "grid_auto_flow": null,
            "grid_area": null,
            "grid_template_columns": null,
            "flex": null,
            "_model_name": "LayoutModel",
            "justify_items": null,
            "grid_row": null,
            "max_height": null,
            "align_content": null,
            "visibility": null,
            "align_self": null,
            "height": null,
            "min_height": null,
            "padding": null,
            "grid_auto_rows": null,
            "grid_gap": null,
            "max_width": null,
            "order": null,
            "_view_module_version": "1.2.0",
            "grid_template_areas": null,
            "object_position": null,
            "object_fit": null,
            "grid_auto_columns": null,
            "margin": null,
            "display": null,
            "left": null
          }
        },
        "fb6caef1ccc7439597f1dd578b1588b8": {
          "model_module": "@jupyter-widgets/controls",
          "model_name": "DescriptionStyleModel",
          "state": {
            "_view_name": "StyleView",
            "_model_name": "DescriptionStyleModel",
            "description_width": "",
            "_view_module": "@jupyter-widgets/base",
            "_model_module_version": "1.5.0",
            "_view_count": null,
            "_view_module_version": "1.2.0",
            "_model_module": "@jupyter-widgets/controls"
          }
        },
        "fe8560c1da9e453eab000704ef9648e8": {
          "model_module": "@jupyter-widgets/base",
          "model_name": "LayoutModel",
          "state": {
            "_view_name": "LayoutView",
            "grid_template_rows": null,
            "right": null,
            "justify_content": null,
            "_view_module": "@jupyter-widgets/base",
            "overflow": null,
            "_model_module_version": "1.2.0",
            "_view_count": null,
            "flex_flow": null,
            "width": null,
            "min_width": null,
            "border": null,
            "align_items": null,
            "bottom": null,
            "_model_module": "@jupyter-widgets/base",
            "top": null,
            "grid_column": null,
            "overflow_y": null,
            "overflow_x": null,
            "grid_auto_flow": null,
            "grid_area": null,
            "grid_template_columns": null,
            "flex": null,
            "_model_name": "LayoutModel",
            "justify_items": null,
            "grid_row": null,
            "max_height": null,
            "align_content": null,
            "visibility": null,
            "align_self": null,
            "height": null,
            "min_height": null,
            "padding": null,
            "grid_auto_rows": null,
            "grid_gap": null,
            "max_width": null,
            "order": null,
            "_view_module_version": "1.2.0",
            "grid_template_areas": null,
            "object_position": null,
            "object_fit": null,
            "grid_auto_columns": null,
            "margin": null,
            "display": null,
            "left": null
          }
        },
        "025e08b2b3da4cb9b8ae6e0d9b16d6f3": {
          "model_module": "@jupyter-widgets/controls",
          "model_name": "HBoxModel",
          "state": {
            "_view_name": "HBoxView",
            "_dom_classes": [],
            "_model_name": "HBoxModel",
            "_view_module": "@jupyter-widgets/controls",
            "_model_module_version": "1.5.0",
            "_view_count": null,
            "_view_module_version": "1.5.0",
            "box_style": "",
            "layout": "IPY_MODEL_2bf27fe89b4646618022ad0230150003",
            "_model_module": "@jupyter-widgets/controls",
            "children": [
              "IPY_MODEL_0c9fe8755c674ae08175cb78696139df",
              "IPY_MODEL_294d4e5175c64e1682989a34670cd2a1"
            ]
          }
        },
        "2bf27fe89b4646618022ad0230150003": {
          "model_module": "@jupyter-widgets/base",
          "model_name": "LayoutModel",
          "state": {
            "_view_name": "LayoutView",
            "grid_template_rows": null,
            "right": null,
            "justify_content": null,
            "_view_module": "@jupyter-widgets/base",
            "overflow": null,
            "_model_module_version": "1.2.0",
            "_view_count": null,
            "flex_flow": null,
            "width": null,
            "min_width": null,
            "border": null,
            "align_items": null,
            "bottom": null,
            "_model_module": "@jupyter-widgets/base",
            "top": null,
            "grid_column": null,
            "overflow_y": null,
            "overflow_x": null,
            "grid_auto_flow": null,
            "grid_area": null,
            "grid_template_columns": null,
            "flex": null,
            "_model_name": "LayoutModel",
            "justify_items": null,
            "grid_row": null,
            "max_height": null,
            "align_content": null,
            "visibility": null,
            "align_self": null,
            "height": null,
            "min_height": null,
            "padding": null,
            "grid_auto_rows": null,
            "grid_gap": null,
            "max_width": null,
            "order": null,
            "_view_module_version": "1.2.0",
            "grid_template_areas": null,
            "object_position": null,
            "object_fit": null,
            "grid_auto_columns": null,
            "margin": null,
            "display": null,
            "left": null
          }
        },
        "0c9fe8755c674ae08175cb78696139df": {
          "model_module": "@jupyter-widgets/controls",
          "model_name": "FloatProgressModel",
          "state": {
            "_view_name": "ProgressView",
            "style": "IPY_MODEL_6712f03a9efa474d8d98c0421aad3c96",
            "_dom_classes": [],
            "description": "Extraction completed...: ",
            "_model_name": "FloatProgressModel",
            "bar_style": "success",
            "max": 1,
            "_view_module": "@jupyter-widgets/controls",
            "_model_module_version": "1.5.0",
            "value": 0,
            "_view_count": null,
            "_view_module_version": "1.5.0",
            "orientation": "horizontal",
            "min": 0,
            "description_tooltip": null,
            "_model_module": "@jupyter-widgets/controls",
            "layout": "IPY_MODEL_f6d65a9969c24a52bebe825bf03492d2"
          }
        },
        "294d4e5175c64e1682989a34670cd2a1": {
          "model_module": "@jupyter-widgets/controls",
          "model_name": "HTMLModel",
          "state": {
            "_view_name": "HTMLView",
            "style": "IPY_MODEL_e0a4ae6676d545e9a1fc3bcf11936c9e",
            "_dom_classes": [],
            "description": "",
            "_model_name": "HTMLModel",
            "placeholder": "​",
            "_view_module": "@jupyter-widgets/controls",
            "_model_module_version": "1.5.0",
            "value": " 0/0 [00:01&lt;?, ? file/s]",
            "_view_count": null,
            "_view_module_version": "1.5.0",
            "description_tooltip": null,
            "_model_module": "@jupyter-widgets/controls",
            "layout": "IPY_MODEL_4ab80c2c27e94490a0a542e1bb528697"
          }
        },
        "6712f03a9efa474d8d98c0421aad3c96": {
          "model_module": "@jupyter-widgets/controls",
          "model_name": "ProgressStyleModel",
          "state": {
            "_view_name": "StyleView",
            "_model_name": "ProgressStyleModel",
            "description_width": "initial",
            "_view_module": "@jupyter-widgets/base",
            "_model_module_version": "1.5.0",
            "_view_count": null,
            "_view_module_version": "1.2.0",
            "bar_color": null,
            "_model_module": "@jupyter-widgets/controls"
          }
        },
        "f6d65a9969c24a52bebe825bf03492d2": {
          "model_module": "@jupyter-widgets/base",
          "model_name": "LayoutModel",
          "state": {
            "_view_name": "LayoutView",
            "grid_template_rows": null,
            "right": null,
            "justify_content": null,
            "_view_module": "@jupyter-widgets/base",
            "overflow": null,
            "_model_module_version": "1.2.0",
            "_view_count": null,
            "flex_flow": null,
            "width": null,
            "min_width": null,
            "border": null,
            "align_items": null,
            "bottom": null,
            "_model_module": "@jupyter-widgets/base",
            "top": null,
            "grid_column": null,
            "overflow_y": null,
            "overflow_x": null,
            "grid_auto_flow": null,
            "grid_area": null,
            "grid_template_columns": null,
            "flex": null,
            "_model_name": "LayoutModel",
            "justify_items": null,
            "grid_row": null,
            "max_height": null,
            "align_content": null,
            "visibility": null,
            "align_self": null,
            "height": null,
            "min_height": null,
            "padding": null,
            "grid_auto_rows": null,
            "grid_gap": null,
            "max_width": null,
            "order": null,
            "_view_module_version": "1.2.0",
            "grid_template_areas": null,
            "object_position": null,
            "object_fit": null,
            "grid_auto_columns": null,
            "margin": null,
            "display": null,
            "left": null
          }
        },
        "e0a4ae6676d545e9a1fc3bcf11936c9e": {
          "model_module": "@jupyter-widgets/controls",
          "model_name": "DescriptionStyleModel",
          "state": {
            "_view_name": "StyleView",
            "_model_name": "DescriptionStyleModel",
            "description_width": "",
            "_view_module": "@jupyter-widgets/base",
            "_model_module_version": "1.5.0",
            "_view_count": null,
            "_view_module_version": "1.2.0",
            "_model_module": "@jupyter-widgets/controls"
          }
        },
        "4ab80c2c27e94490a0a542e1bb528697": {
          "model_module": "@jupyter-widgets/base",
          "model_name": "LayoutModel",
          "state": {
            "_view_name": "LayoutView",
            "grid_template_rows": null,
            "right": null,
            "justify_content": null,
            "_view_module": "@jupyter-widgets/base",
            "overflow": null,
            "_model_module_version": "1.2.0",
            "_view_count": null,
            "flex_flow": null,
            "width": null,
            "min_width": null,
            "border": null,
            "align_items": null,
            "bottom": null,
            "_model_module": "@jupyter-widgets/base",
            "top": null,
            "grid_column": null,
            "overflow_y": null,
            "overflow_x": null,
            "grid_auto_flow": null,
            "grid_area": null,
            "grid_template_columns": null,
            "flex": null,
            "_model_name": "LayoutModel",
            "justify_items": null,
            "grid_row": null,
            "max_height": null,
            "align_content": null,
            "visibility": null,
            "align_self": null,
            "height": null,
            "min_height": null,
            "padding": null,
            "grid_auto_rows": null,
            "grid_gap": null,
            "max_width": null,
            "order": null,
            "_view_module_version": "1.2.0",
            "grid_template_areas": null,
            "object_position": null,
            "object_fit": null,
            "grid_auto_columns": null,
            "margin": null,
            "display": null,
            "left": null
          }
        },
        "1c025df7439d408999a26e980c5bc902": {
          "model_module": "@jupyter-widgets/controls",
          "model_name": "HBoxModel",
          "state": {
            "_view_name": "HBoxView",
            "_dom_classes": [],
            "_model_name": "HBoxModel",
            "_view_module": "@jupyter-widgets/controls",
            "_model_module_version": "1.5.0",
            "_view_count": null,
            "_view_module_version": "1.5.0",
            "box_style": "",
            "layout": "IPY_MODEL_5cd7d8c4f0024a609072a00fb9ca67f6",
            "_model_module": "@jupyter-widgets/controls",
            "children": [
              "IPY_MODEL_9d125ae33f504df79de1733de982253a",
              "IPY_MODEL_2943145b94a2470e83c9cddfb47f53d2"
            ]
          }
        },
        "5cd7d8c4f0024a609072a00fb9ca67f6": {
          "model_module": "@jupyter-widgets/base",
          "model_name": "LayoutModel",
          "state": {
            "_view_name": "LayoutView",
            "grid_template_rows": null,
            "right": null,
            "justify_content": null,
            "_view_module": "@jupyter-widgets/base",
            "overflow": null,
            "_model_module_version": "1.2.0",
            "_view_count": null,
            "flex_flow": null,
            "width": null,
            "min_width": null,
            "border": null,
            "align_items": null,
            "bottom": null,
            "_model_module": "@jupyter-widgets/base",
            "top": null,
            "grid_column": null,
            "overflow_y": null,
            "overflow_x": null,
            "grid_auto_flow": null,
            "grid_area": null,
            "grid_template_columns": null,
            "flex": null,
            "_model_name": "LayoutModel",
            "justify_items": null,
            "grid_row": null,
            "max_height": null,
            "align_content": null,
            "visibility": null,
            "align_self": null,
            "height": null,
            "min_height": null,
            "padding": null,
            "grid_auto_rows": null,
            "grid_gap": null,
            "max_width": null,
            "order": null,
            "_view_module_version": "1.2.0",
            "grid_template_areas": null,
            "object_position": null,
            "object_fit": null,
            "grid_auto_columns": null,
            "margin": null,
            "display": null,
            "left": null
          }
        },
        "9d125ae33f504df79de1733de982253a": {
          "model_module": "@jupyter-widgets/controls",
          "model_name": "FloatProgressModel",
          "state": {
            "_view_name": "ProgressView",
            "style": "IPY_MODEL_a81c5f089d2c4cf5864becbd714945af",
            "_dom_classes": [],
            "description": "",
            "_model_name": "FloatProgressModel",
            "bar_style": "info",
            "max": 1,
            "_view_module": "@jupyter-widgets/controls",
            "_model_module_version": "1.5.0",
            "value": 1,
            "_view_count": null,
            "_view_module_version": "1.5.0",
            "orientation": "horizontal",
            "min": 0,
            "description_tooltip": null,
            "_model_module": "@jupyter-widgets/controls",
            "layout": "IPY_MODEL_ae7ca5e8f5ba467cb4b7a370992dc06a"
          }
        },
        "2943145b94a2470e83c9cddfb47f53d2": {
          "model_module": "@jupyter-widgets/controls",
          "model_name": "HTMLModel",
          "state": {
            "_view_name": "HTMLView",
            "style": "IPY_MODEL_682cc59b57564c7ea541291d8dfa4409",
            "_dom_classes": [],
            "description": "",
            "_model_name": "HTMLModel",
            "placeholder": "​",
            "_view_module": "@jupyter-widgets/controls",
            "_model_module_version": "1.5.0",
            "value": " 87599/0 [00:45&lt;00:00, 1930.79 examples/s]",
            "_view_count": null,
            "_view_module_version": "1.5.0",
            "description_tooltip": null,
            "_model_module": "@jupyter-widgets/controls",
            "layout": "IPY_MODEL_a630febd21d44233ab7672ee9631ce1c"
          }
        },
        "a81c5f089d2c4cf5864becbd714945af": {
          "model_module": "@jupyter-widgets/controls",
          "model_name": "ProgressStyleModel",
          "state": {
            "_view_name": "StyleView",
            "_model_name": "ProgressStyleModel",
            "description_width": "initial",
            "_view_module": "@jupyter-widgets/base",
            "_model_module_version": "1.5.0",
            "_view_count": null,
            "_view_module_version": "1.2.0",
            "bar_color": null,
            "_model_module": "@jupyter-widgets/controls"
          }
        },
        "ae7ca5e8f5ba467cb4b7a370992dc06a": {
          "model_module": "@jupyter-widgets/base",
          "model_name": "LayoutModel",
          "state": {
            "_view_name": "LayoutView",
            "grid_template_rows": null,
            "right": null,
            "justify_content": null,
            "_view_module": "@jupyter-widgets/base",
            "overflow": null,
            "_model_module_version": "1.2.0",
            "_view_count": null,
            "flex_flow": null,
            "width": null,
            "min_width": null,
            "border": null,
            "align_items": null,
            "bottom": null,
            "_model_module": "@jupyter-widgets/base",
            "top": null,
            "grid_column": null,
            "overflow_y": null,
            "overflow_x": null,
            "grid_auto_flow": null,
            "grid_area": null,
            "grid_template_columns": null,
            "flex": null,
            "_model_name": "LayoutModel",
            "justify_items": null,
            "grid_row": null,
            "max_height": null,
            "align_content": null,
            "visibility": null,
            "align_self": null,
            "height": null,
            "min_height": null,
            "padding": null,
            "grid_auto_rows": null,
            "grid_gap": null,
            "max_width": null,
            "order": null,
            "_view_module_version": "1.2.0",
            "grid_template_areas": null,
            "object_position": null,
            "object_fit": null,
            "grid_auto_columns": null,
            "margin": null,
            "display": null,
            "left": null
          }
        },
        "682cc59b57564c7ea541291d8dfa4409": {
          "model_module": "@jupyter-widgets/controls",
          "model_name": "DescriptionStyleModel",
          "state": {
            "_view_name": "StyleView",
            "_model_name": "DescriptionStyleModel",
            "description_width": "",
            "_view_module": "@jupyter-widgets/base",
            "_model_module_version": "1.5.0",
            "_view_count": null,
            "_view_module_version": "1.2.0",
            "_model_module": "@jupyter-widgets/controls"
          }
        },
        "a630febd21d44233ab7672ee9631ce1c": {
          "model_module": "@jupyter-widgets/base",
          "model_name": "LayoutModel",
          "state": {
            "_view_name": "LayoutView",
            "grid_template_rows": null,
            "right": null,
            "justify_content": null,
            "_view_module": "@jupyter-widgets/base",
            "overflow": null,
            "_model_module_version": "1.2.0",
            "_view_count": null,
            "flex_flow": null,
            "width": null,
            "min_width": null,
            "border": null,
            "align_items": null,
            "bottom": null,
            "_model_module": "@jupyter-widgets/base",
            "top": null,
            "grid_column": null,
            "overflow_y": null,
            "overflow_x": null,
            "grid_auto_flow": null,
            "grid_area": null,
            "grid_template_columns": null,
            "flex": null,
            "_model_name": "LayoutModel",
            "justify_items": null,
            "grid_row": null,
            "max_height": null,
            "align_content": null,
            "visibility": null,
            "align_self": null,
            "height": null,
            "min_height": null,
            "padding": null,
            "grid_auto_rows": null,
            "grid_gap": null,
            "max_width": null,
            "order": null,
            "_view_module_version": "1.2.0",
            "grid_template_areas": null,
            "object_position": null,
            "object_fit": null,
            "grid_auto_columns": null,
            "margin": null,
            "display": null,
            "left": null
          }
        },
        "403fa126826c460e9429457230a61b38": {
          "model_module": "@jupyter-widgets/controls",
          "model_name": "HBoxModel",
          "state": {
            "_view_name": "HBoxView",
            "_dom_classes": [],
            "_model_name": "HBoxModel",
            "_view_module": "@jupyter-widgets/controls",
            "_model_module_version": "1.5.0",
            "_view_count": null,
            "_view_module_version": "1.5.0",
            "box_style": "",
            "layout": "IPY_MODEL_3b37adcf2d254c0eaee9656ae8f428e2",
            "_model_module": "@jupyter-widgets/controls",
            "children": [
              "IPY_MODEL_cad9190ba4be4975b77b39593174f2e2",
              "IPY_MODEL_2f5ff20ff02942b5a339030c784b7445"
            ]
          }
        },
        "3b37adcf2d254c0eaee9656ae8f428e2": {
          "model_module": "@jupyter-widgets/base",
          "model_name": "LayoutModel",
          "state": {
            "_view_name": "LayoutView",
            "grid_template_rows": null,
            "right": null,
            "justify_content": null,
            "_view_module": "@jupyter-widgets/base",
            "overflow": null,
            "_model_module_version": "1.2.0",
            "_view_count": null,
            "flex_flow": null,
            "width": null,
            "min_width": null,
            "border": null,
            "align_items": null,
            "bottom": null,
            "_model_module": "@jupyter-widgets/base",
            "top": null,
            "grid_column": null,
            "overflow_y": null,
            "overflow_x": null,
            "grid_auto_flow": null,
            "grid_area": null,
            "grid_template_columns": null,
            "flex": null,
            "_model_name": "LayoutModel",
            "justify_items": null,
            "grid_row": null,
            "max_height": null,
            "align_content": null,
            "visibility": null,
            "align_self": null,
            "height": null,
            "min_height": null,
            "padding": null,
            "grid_auto_rows": null,
            "grid_gap": null,
            "max_width": null,
            "order": null,
            "_view_module_version": "1.2.0",
            "grid_template_areas": null,
            "object_position": null,
            "object_fit": null,
            "grid_auto_columns": null,
            "margin": null,
            "display": null,
            "left": null
          }
        },
        "cad9190ba4be4975b77b39593174f2e2": {
          "model_module": "@jupyter-widgets/controls",
          "model_name": "FloatProgressModel",
          "state": {
            "_view_name": "ProgressView",
            "style": "IPY_MODEL_80137cfdbc8f4bd8ad1761fbb24cc1f2",
            "_dom_classes": [],
            "description": " 76%",
            "_model_name": "FloatProgressModel",
            "bar_style": "danger",
            "max": 87599,
            "_view_module": "@jupyter-widgets/controls",
            "_model_module_version": "1.5.0",
            "value": 66156,
            "_view_count": null,
            "_view_module_version": "1.5.0",
            "orientation": "horizontal",
            "min": 0,
            "description_tooltip": null,
            "_model_module": "@jupyter-widgets/controls",
            "layout": "IPY_MODEL_1139e52970634f4c84cb01d355879bd6"
          }
        },
        "2f5ff20ff02942b5a339030c784b7445": {
          "model_module": "@jupyter-widgets/controls",
          "model_name": "HTMLModel",
          "state": {
            "_view_name": "HTMLView",
            "style": "IPY_MODEL_527b3a44730847a998ba7da63600dcbb",
            "_dom_classes": [],
            "description": "",
            "_model_name": "HTMLModel",
            "placeholder": "​",
            "_view_module": "@jupyter-widgets/controls",
            "_model_module_version": "1.5.0",
            "value": " 66156/87599 [00:00&lt;17:50, 20.03 examples/s]",
            "_view_count": null,
            "_view_module_version": "1.5.0",
            "description_tooltip": null,
            "_model_module": "@jupyter-widgets/controls",
            "layout": "IPY_MODEL_b0b4e2035a4c4801a413243c840f1315"
          }
        },
        "80137cfdbc8f4bd8ad1761fbb24cc1f2": {
          "model_module": "@jupyter-widgets/controls",
          "model_name": "ProgressStyleModel",
          "state": {
            "_view_name": "StyleView",
            "_model_name": "ProgressStyleModel",
            "description_width": "initial",
            "_view_module": "@jupyter-widgets/base",
            "_model_module_version": "1.5.0",
            "_view_count": null,
            "_view_module_version": "1.2.0",
            "bar_color": null,
            "_model_module": "@jupyter-widgets/controls"
          }
        },
        "1139e52970634f4c84cb01d355879bd6": {
          "model_module": "@jupyter-widgets/base",
          "model_name": "LayoutModel",
          "state": {
            "_view_name": "LayoutView",
            "grid_template_rows": null,
            "right": null,
            "justify_content": null,
            "_view_module": "@jupyter-widgets/base",
            "overflow": null,
            "_model_module_version": "1.2.0",
            "_view_count": null,
            "flex_flow": null,
            "width": null,
            "min_width": null,
            "border": null,
            "align_items": null,
            "bottom": null,
            "_model_module": "@jupyter-widgets/base",
            "top": null,
            "grid_column": null,
            "overflow_y": null,
            "overflow_x": null,
            "grid_auto_flow": null,
            "grid_area": null,
            "grid_template_columns": null,
            "flex": null,
            "_model_name": "LayoutModel",
            "justify_items": null,
            "grid_row": null,
            "max_height": null,
            "align_content": null,
            "visibility": null,
            "align_self": null,
            "height": null,
            "min_height": null,
            "padding": null,
            "grid_auto_rows": null,
            "grid_gap": null,
            "max_width": null,
            "order": null,
            "_view_module_version": "1.2.0",
            "grid_template_areas": null,
            "object_position": null,
            "object_fit": null,
            "grid_auto_columns": null,
            "margin": null,
            "display": null,
            "left": null
          }
        },
        "527b3a44730847a998ba7da63600dcbb": {
          "model_module": "@jupyter-widgets/controls",
          "model_name": "DescriptionStyleModel",
          "state": {
            "_view_name": "StyleView",
            "_model_name": "DescriptionStyleModel",
            "description_width": "",
            "_view_module": "@jupyter-widgets/base",
            "_model_module_version": "1.5.0",
            "_view_count": null,
            "_view_module_version": "1.2.0",
            "_model_module": "@jupyter-widgets/controls"
          }
        },
        "b0b4e2035a4c4801a413243c840f1315": {
          "model_module": "@jupyter-widgets/base",
          "model_name": "LayoutModel",
          "state": {
            "_view_name": "LayoutView",
            "grid_template_rows": null,
            "right": null,
            "justify_content": null,
            "_view_module": "@jupyter-widgets/base",
            "overflow": null,
            "_model_module_version": "1.2.0",
            "_view_count": null,
            "flex_flow": null,
            "width": null,
            "min_width": null,
            "border": null,
            "align_items": null,
            "bottom": null,
            "_model_module": "@jupyter-widgets/base",
            "top": null,
            "grid_column": null,
            "overflow_y": null,
            "overflow_x": null,
            "grid_auto_flow": null,
            "grid_area": null,
            "grid_template_columns": null,
            "flex": null,
            "_model_name": "LayoutModel",
            "justify_items": null,
            "grid_row": null,
            "max_height": null,
            "align_content": null,
            "visibility": null,
            "align_self": null,
            "height": null,
            "min_height": null,
            "padding": null,
            "grid_auto_rows": null,
            "grid_gap": null,
            "max_width": null,
            "order": null,
            "_view_module_version": "1.2.0",
            "grid_template_areas": null,
            "object_position": null,
            "object_fit": null,
            "grid_auto_columns": null,
            "margin": null,
            "display": null,
            "left": null
          }
        },
        "15ca34e6fa54438da009a4b0a5148c46": {
          "model_module": "@jupyter-widgets/controls",
          "model_name": "HBoxModel",
          "state": {
            "_view_name": "HBoxView",
            "_dom_classes": [],
            "_model_name": "HBoxModel",
            "_view_module": "@jupyter-widgets/controls",
            "_model_module_version": "1.5.0",
            "_view_count": null,
            "_view_module_version": "1.5.0",
            "box_style": "",
            "layout": "IPY_MODEL_a254bca1e34542999d43af79f3305603",
            "_model_module": "@jupyter-widgets/controls",
            "children": [
              "IPY_MODEL_e262d7cb1f8d4ad59cded7f31769a0a4",
              "IPY_MODEL_9a60c1024f1f4f2b99f54308344c66e3"
            ]
          }
        },
        "a254bca1e34542999d43af79f3305603": {
          "model_module": "@jupyter-widgets/base",
          "model_name": "LayoutModel",
          "state": {
            "_view_name": "LayoutView",
            "grid_template_rows": null,
            "right": null,
            "justify_content": null,
            "_view_module": "@jupyter-widgets/base",
            "overflow": null,
            "_model_module_version": "1.2.0",
            "_view_count": null,
            "flex_flow": null,
            "width": null,
            "min_width": null,
            "border": null,
            "align_items": null,
            "bottom": null,
            "_model_module": "@jupyter-widgets/base",
            "top": null,
            "grid_column": null,
            "overflow_y": null,
            "overflow_x": null,
            "grid_auto_flow": null,
            "grid_area": null,
            "grid_template_columns": null,
            "flex": null,
            "_model_name": "LayoutModel",
            "justify_items": null,
            "grid_row": null,
            "max_height": null,
            "align_content": null,
            "visibility": null,
            "align_self": null,
            "height": null,
            "min_height": null,
            "padding": null,
            "grid_auto_rows": null,
            "grid_gap": null,
            "max_width": null,
            "order": null,
            "_view_module_version": "1.2.0",
            "grid_template_areas": null,
            "object_position": null,
            "object_fit": null,
            "grid_auto_columns": null,
            "margin": null,
            "display": null,
            "left": null
          }
        },
        "e262d7cb1f8d4ad59cded7f31769a0a4": {
          "model_module": "@jupyter-widgets/controls",
          "model_name": "FloatProgressModel",
          "state": {
            "_view_name": "ProgressView",
            "style": "IPY_MODEL_5d6b89afea10401cbd149fadc7fa1dcc",
            "_dom_classes": [],
            "description": "",
            "_model_name": "FloatProgressModel",
            "bar_style": "info",
            "max": 1,
            "_view_module": "@jupyter-widgets/controls",
            "_model_module_version": "1.5.0",
            "value": 1,
            "_view_count": null,
            "_view_module_version": "1.5.0",
            "orientation": "horizontal",
            "min": 0,
            "description_tooltip": null,
            "_model_module": "@jupyter-widgets/controls",
            "layout": "IPY_MODEL_3c92d77a2bbc4165a2482e6b6a9c6c6e"
          }
        },
        "9a60c1024f1f4f2b99f54308344c66e3": {
          "model_module": "@jupyter-widgets/controls",
          "model_name": "HTMLModel",
          "state": {
            "_view_name": "HTMLView",
            "style": "IPY_MODEL_a19495b262814573b78bb728dca0031d",
            "_dom_classes": [],
            "description": "",
            "_model_name": "HTMLModel",
            "placeholder": "​",
            "_view_module": "@jupyter-widgets/controls",
            "_model_module_version": "1.5.0",
            "value": " 10570/0 [00:06&lt;00:00, 1475.99 examples/s]",
            "_view_count": null,
            "_view_module_version": "1.5.0",
            "description_tooltip": null,
            "_model_module": "@jupyter-widgets/controls",
            "layout": "IPY_MODEL_a8cbff41e2fa46c58cdc93e407cfe1fa"
          }
        },
        "5d6b89afea10401cbd149fadc7fa1dcc": {
          "model_module": "@jupyter-widgets/controls",
          "model_name": "ProgressStyleModel",
          "state": {
            "_view_name": "StyleView",
            "_model_name": "ProgressStyleModel",
            "description_width": "initial",
            "_view_module": "@jupyter-widgets/base",
            "_model_module_version": "1.5.0",
            "_view_count": null,
            "_view_module_version": "1.2.0",
            "bar_color": null,
            "_model_module": "@jupyter-widgets/controls"
          }
        },
        "3c92d77a2bbc4165a2482e6b6a9c6c6e": {
          "model_module": "@jupyter-widgets/base",
          "model_name": "LayoutModel",
          "state": {
            "_view_name": "LayoutView",
            "grid_template_rows": null,
            "right": null,
            "justify_content": null,
            "_view_module": "@jupyter-widgets/base",
            "overflow": null,
            "_model_module_version": "1.2.0",
            "_view_count": null,
            "flex_flow": null,
            "width": null,
            "min_width": null,
            "border": null,
            "align_items": null,
            "bottom": null,
            "_model_module": "@jupyter-widgets/base",
            "top": null,
            "grid_column": null,
            "overflow_y": null,
            "overflow_x": null,
            "grid_auto_flow": null,
            "grid_area": null,
            "grid_template_columns": null,
            "flex": null,
            "_model_name": "LayoutModel",
            "justify_items": null,
            "grid_row": null,
            "max_height": null,
            "align_content": null,
            "visibility": null,
            "align_self": null,
            "height": null,
            "min_height": null,
            "padding": null,
            "grid_auto_rows": null,
            "grid_gap": null,
            "max_width": null,
            "order": null,
            "_view_module_version": "1.2.0",
            "grid_template_areas": null,
            "object_position": null,
            "object_fit": null,
            "grid_auto_columns": null,
            "margin": null,
            "display": null,
            "left": null
          }
        },
        "a19495b262814573b78bb728dca0031d": {
          "model_module": "@jupyter-widgets/controls",
          "model_name": "DescriptionStyleModel",
          "state": {
            "_view_name": "StyleView",
            "_model_name": "DescriptionStyleModel",
            "description_width": "",
            "_view_module": "@jupyter-widgets/base",
            "_model_module_version": "1.5.0",
            "_view_count": null,
            "_view_module_version": "1.2.0",
            "_model_module": "@jupyter-widgets/controls"
          }
        },
        "a8cbff41e2fa46c58cdc93e407cfe1fa": {
          "model_module": "@jupyter-widgets/base",
          "model_name": "LayoutModel",
          "state": {
            "_view_name": "LayoutView",
            "grid_template_rows": null,
            "right": null,
            "justify_content": null,
            "_view_module": "@jupyter-widgets/base",
            "overflow": null,
            "_model_module_version": "1.2.0",
            "_view_count": null,
            "flex_flow": null,
            "width": null,
            "min_width": null,
            "border": null,
            "align_items": null,
            "bottom": null,
            "_model_module": "@jupyter-widgets/base",
            "top": null,
            "grid_column": null,
            "overflow_y": null,
            "overflow_x": null,
            "grid_auto_flow": null,
            "grid_area": null,
            "grid_template_columns": null,
            "flex": null,
            "_model_name": "LayoutModel",
            "justify_items": null,
            "grid_row": null,
            "max_height": null,
            "align_content": null,
            "visibility": null,
            "align_self": null,
            "height": null,
            "min_height": null,
            "padding": null,
            "grid_auto_rows": null,
            "grid_gap": null,
            "max_width": null,
            "order": null,
            "_view_module_version": "1.2.0",
            "grid_template_areas": null,
            "object_position": null,
            "object_fit": null,
            "grid_auto_columns": null,
            "margin": null,
            "display": null,
            "left": null
          }
        },
        "fa54831a802843ed9ec509e68db3877e": {
          "model_module": "@jupyter-widgets/controls",
          "model_name": "HBoxModel",
          "state": {
            "_view_name": "HBoxView",
            "_dom_classes": [],
            "_model_name": "HBoxModel",
            "_view_module": "@jupyter-widgets/controls",
            "_model_module_version": "1.5.0",
            "_view_count": null,
            "_view_module_version": "1.5.0",
            "box_style": "",
            "layout": "IPY_MODEL_72533f1004414e18986669bbc815298c",
            "_model_module": "@jupyter-widgets/controls",
            "children": [
              "IPY_MODEL_91017997ceed478b8e26e6112239aaa6",
              "IPY_MODEL_f02a74f8bd0e4076b607b131749f16d0"
            ]
          }
        },
        "72533f1004414e18986669bbc815298c": {
          "model_module": "@jupyter-widgets/base",
          "model_name": "LayoutModel",
          "state": {
            "_view_name": "LayoutView",
            "grid_template_rows": null,
            "right": null,
            "justify_content": null,
            "_view_module": "@jupyter-widgets/base",
            "overflow": null,
            "_model_module_version": "1.2.0",
            "_view_count": null,
            "flex_flow": null,
            "width": null,
            "min_width": null,
            "border": null,
            "align_items": null,
            "bottom": null,
            "_model_module": "@jupyter-widgets/base",
            "top": null,
            "grid_column": null,
            "overflow_y": null,
            "overflow_x": null,
            "grid_auto_flow": null,
            "grid_area": null,
            "grid_template_columns": null,
            "flex": null,
            "_model_name": "LayoutModel",
            "justify_items": null,
            "grid_row": null,
            "max_height": null,
            "align_content": null,
            "visibility": null,
            "align_self": null,
            "height": null,
            "min_height": null,
            "padding": null,
            "grid_auto_rows": null,
            "grid_gap": null,
            "max_width": null,
            "order": null,
            "_view_module_version": "1.2.0",
            "grid_template_areas": null,
            "object_position": null,
            "object_fit": null,
            "grid_auto_columns": null,
            "margin": null,
            "display": null,
            "left": null
          }
        },
        "91017997ceed478b8e26e6112239aaa6": {
          "model_module": "@jupyter-widgets/controls",
          "model_name": "FloatProgressModel",
          "state": {
            "_view_name": "ProgressView",
            "style": "IPY_MODEL_76c6308654d2423f95b1848082737975",
            "_dom_classes": [],
            "description": "  0%",
            "_model_name": "FloatProgressModel",
            "bar_style": "danger",
            "max": 10570,
            "_view_module": "@jupyter-widgets/controls",
            "_model_module_version": "1.5.0",
            "value": 0,
            "_view_count": null,
            "_view_module_version": "1.5.0",
            "orientation": "horizontal",
            "min": 0,
            "description_tooltip": null,
            "_model_module": "@jupyter-widgets/controls",
            "layout": "IPY_MODEL_0879f7432bc6496f8bda2f721e6fb31c"
          }
        },
        "f02a74f8bd0e4076b607b131749f16d0": {
          "model_module": "@jupyter-widgets/controls",
          "model_name": "HTMLModel",
          "state": {
            "_view_name": "HTMLView",
            "style": "IPY_MODEL_9ed4e1d148574e3eabf44c97dd7adaf2",
            "_dom_classes": [],
            "description": "",
            "_model_name": "HTMLModel",
            "placeholder": "​",
            "_view_module": "@jupyter-widgets/controls",
            "_model_module_version": "1.5.0",
            "value": " 0/10570 [00:00&lt;?, ? examples/s]",
            "_view_count": null,
            "_view_module_version": "1.5.0",
            "description_tooltip": null,
            "_model_module": "@jupyter-widgets/controls",
            "layout": "IPY_MODEL_0f9bbd960de4447bbdd63ec548b4d9c1"
          }
        },
        "76c6308654d2423f95b1848082737975": {
          "model_module": "@jupyter-widgets/controls",
          "model_name": "ProgressStyleModel",
          "state": {
            "_view_name": "StyleView",
            "_model_name": "ProgressStyleModel",
            "description_width": "initial",
            "_view_module": "@jupyter-widgets/base",
            "_model_module_version": "1.5.0",
            "_view_count": null,
            "_view_module_version": "1.2.0",
            "bar_color": null,
            "_model_module": "@jupyter-widgets/controls"
          }
        },
        "0879f7432bc6496f8bda2f721e6fb31c": {
          "model_module": "@jupyter-widgets/base",
          "model_name": "LayoutModel",
          "state": {
            "_view_name": "LayoutView",
            "grid_template_rows": null,
            "right": null,
            "justify_content": null,
            "_view_module": "@jupyter-widgets/base",
            "overflow": null,
            "_model_module_version": "1.2.0",
            "_view_count": null,
            "flex_flow": null,
            "width": null,
            "min_width": null,
            "border": null,
            "align_items": null,
            "bottom": null,
            "_model_module": "@jupyter-widgets/base",
            "top": null,
            "grid_column": null,
            "overflow_y": null,
            "overflow_x": null,
            "grid_auto_flow": null,
            "grid_area": null,
            "grid_template_columns": null,
            "flex": null,
            "_model_name": "LayoutModel",
            "justify_items": null,
            "grid_row": null,
            "max_height": null,
            "align_content": null,
            "visibility": null,
            "align_self": null,
            "height": null,
            "min_height": null,
            "padding": null,
            "grid_auto_rows": null,
            "grid_gap": null,
            "max_width": null,
            "order": null,
            "_view_module_version": "1.2.0",
            "grid_template_areas": null,
            "object_position": null,
            "object_fit": null,
            "grid_auto_columns": null,
            "margin": null,
            "display": null,
            "left": null
          }
        },
        "9ed4e1d148574e3eabf44c97dd7adaf2": {
          "model_module": "@jupyter-widgets/controls",
          "model_name": "DescriptionStyleModel",
          "state": {
            "_view_name": "StyleView",
            "_model_name": "DescriptionStyleModel",
            "description_width": "",
            "_view_module": "@jupyter-widgets/base",
            "_model_module_version": "1.5.0",
            "_view_count": null,
            "_view_module_version": "1.2.0",
            "_model_module": "@jupyter-widgets/controls"
          }
        },
        "0f9bbd960de4447bbdd63ec548b4d9c1": {
          "model_module": "@jupyter-widgets/base",
          "model_name": "LayoutModel",
          "state": {
            "_view_name": "LayoutView",
            "grid_template_rows": null,
            "right": null,
            "justify_content": null,
            "_view_module": "@jupyter-widgets/base",
            "overflow": null,
            "_model_module_version": "1.2.0",
            "_view_count": null,
            "flex_flow": null,
            "width": null,
            "min_width": null,
            "border": null,
            "align_items": null,
            "bottom": null,
            "_model_module": "@jupyter-widgets/base",
            "top": null,
            "grid_column": null,
            "overflow_y": null,
            "overflow_x": null,
            "grid_auto_flow": null,
            "grid_area": null,
            "grid_template_columns": null,
            "flex": null,
            "_model_name": "LayoutModel",
            "justify_items": null,
            "grid_row": null,
            "max_height": null,
            "align_content": null,
            "visibility": null,
            "align_self": null,
            "height": null,
            "min_height": null,
            "padding": null,
            "grid_auto_rows": null,
            "grid_gap": null,
            "max_width": null,
            "order": null,
            "_view_module_version": "1.2.0",
            "grid_template_areas": null,
            "object_position": null,
            "object_fit": null,
            "grid_auto_columns": null,
            "margin": null,
            "display": null,
            "left": null
          }
        }
      }
    }
  },
  "cells": [
    {
      "cell_type": "code",
      "metadata": {
        "id": "Uc3R1UgCPdSK",
        "colab_type": "code",
        "colab": {}
      },
      "source": [
        "%tensorflow_version 2.x"
      ],
      "execution_count": null,
      "outputs": []
    },
    {
      "cell_type": "code",
      "metadata": {
        "id": "muVQTP3Wj6nZ",
        "colab_type": "code",
        "colab": {
          "base_uri": "https://localhost:8080/",
          "height": 595
        },
        "outputId": "9962510d-de42-4f9b-ba60-2320d4ecc7b8"
      },
      "source": [
        "!pip install transformers"
      ],
      "execution_count": null,
      "outputs": [
        {
          "output_type": "stream",
          "text": [
            "Collecting transformers\n",
            "\u001b[?25l  Downloading https://files.pythonhosted.org/packages/48/35/ad2c5b1b8f99feaaf9d7cdadaeef261f098c6e1a6a2935d4d07662a6b780/transformers-2.11.0-py3-none-any.whl (674kB)\n",
            "\u001b[K     |████████████████████████████████| 675kB 3.4MB/s \n",
            "\u001b[?25hRequirement already satisfied: dataclasses; python_version < \"3.7\" in /usr/local/lib/python3.6/dist-packages (from transformers) (0.7)\n",
            "Requirement already satisfied: requests in /usr/local/lib/python3.6/dist-packages (from transformers) (2.23.0)\n",
            "Requirement already satisfied: regex!=2019.12.17 in /usr/local/lib/python3.6/dist-packages (from transformers) (2019.12.20)\n",
            "Collecting sentencepiece\n",
            "\u001b[?25l  Downloading https://files.pythonhosted.org/packages/d4/a4/d0a884c4300004a78cca907a6ff9a5e9fe4f090f5d95ab341c53d28cbc58/sentencepiece-0.1.91-cp36-cp36m-manylinux1_x86_64.whl (1.1MB)\n",
            "\u001b[K     |████████████████████████████████| 1.1MB 15.5MB/s \n",
            "\u001b[?25hRequirement already satisfied: filelock in /usr/local/lib/python3.6/dist-packages (from transformers) (3.0.12)\n",
            "Collecting sacremoses\n",
            "\u001b[?25l  Downloading https://files.pythonhosted.org/packages/7d/34/09d19aff26edcc8eb2a01bed8e98f13a1537005d31e95233fd48216eed10/sacremoses-0.0.43.tar.gz (883kB)\n",
            "\u001b[K     |████████████████████████████████| 890kB 25.2MB/s \n",
            "\u001b[?25hRequirement already satisfied: numpy in /usr/local/lib/python3.6/dist-packages (from transformers) (1.18.5)\n",
            "Requirement already satisfied: packaging in /usr/local/lib/python3.6/dist-packages (from transformers) (20.4)\n",
            "Requirement already satisfied: tqdm>=4.27 in /usr/local/lib/python3.6/dist-packages (from transformers) (4.41.1)\n",
            "Collecting tokenizers==0.7.0\n",
            "\u001b[?25l  Downloading https://files.pythonhosted.org/packages/14/e5/a26eb4716523808bb0a799fcfdceb6ebf77a18169d9591b2f46a9adb87d9/tokenizers-0.7.0-cp36-cp36m-manylinux1_x86_64.whl (3.8MB)\n",
            "\u001b[K     |████████████████████████████████| 3.8MB 25.1MB/s \n",
            "\u001b[?25hRequirement already satisfied: idna<3,>=2.5 in /usr/local/lib/python3.6/dist-packages (from requests->transformers) (2.9)\n",
            "Requirement already satisfied: certifi>=2017.4.17 in /usr/local/lib/python3.6/dist-packages (from requests->transformers) (2020.4.5.1)\n",
            "Requirement already satisfied: urllib3!=1.25.0,!=1.25.1,<1.26,>=1.21.1 in /usr/local/lib/python3.6/dist-packages (from requests->transformers) (1.24.3)\n",
            "Requirement already satisfied: chardet<4,>=3.0.2 in /usr/local/lib/python3.6/dist-packages (from requests->transformers) (3.0.4)\n",
            "Requirement already satisfied: six in /usr/local/lib/python3.6/dist-packages (from sacremoses->transformers) (1.12.0)\n",
            "Requirement already satisfied: click in /usr/local/lib/python3.6/dist-packages (from sacremoses->transformers) (7.1.2)\n",
            "Requirement already satisfied: joblib in /usr/local/lib/python3.6/dist-packages (from sacremoses->transformers) (0.15.1)\n",
            "Requirement already satisfied: pyparsing>=2.0.2 in /usr/local/lib/python3.6/dist-packages (from packaging->transformers) (2.4.7)\n",
            "Building wheels for collected packages: sacremoses\n",
            "  Building wheel for sacremoses (setup.py) ... \u001b[?25l\u001b[?25hdone\n",
            "  Created wheel for sacremoses: filename=sacremoses-0.0.43-cp36-none-any.whl size=893260 sha256=b81f5161c2a53fa551b0b0aef81f01aff3b42d6dea983812c6c24e49b1b87fb1\n",
            "  Stored in directory: /root/.cache/pip/wheels/29/3c/fd/7ce5c3f0666dab31a50123635e6fb5e19ceb42ce38d4e58f45\n",
            "Successfully built sacremoses\n",
            "Installing collected packages: sentencepiece, sacremoses, tokenizers, transformers\n",
            "Successfully installed sacremoses-0.0.43 sentencepiece-0.1.91 tokenizers-0.7.0 transformers-2.11.0\n"
          ],
          "name": "stdout"
        }
      ]
    },
    {
      "cell_type": "code",
      "metadata": {
        "id": "l-uVvkp5N_ox",
        "colab_type": "code",
        "cellView": "code",
        "colab": {}
      },
      "source": [
        "import tensorflow as tf\n",
        "from tensorflow.keras import backend as K\n",
        "import numpy as np\n",
        "import tensorflow_datasets as tfds\n",
        "from transformers import BertTokenizer\n",
        "from transformers.data.processors.squad import SquadResult, SquadV1Processor\n",
        "from absl import app\n",
        "import tensorflow_hub as hub\n",
        "from tensorflow.keras.layers import Layer\n",
        "import os"
      ],
      "execution_count": null,
      "outputs": []
    },
    {
      "cell_type": "code",
      "metadata": {
        "id": "nGab_sdLABUn",
        "colab_type": "code",
        "colab": {
          "base_uri": "https://localhost:8080/",
          "height": 85
        },
        "outputId": "db469018-df76-477d-bcfd-15e056502830"
      },
      "source": [
        "!pip install pyyaml h5py  "
      ],
      "execution_count": null,
      "outputs": [
        {
          "output_type": "stream",
          "text": [
            "Requirement already satisfied: pyyaml in /usr/local/lib/python3.6/dist-packages (3.13)\n",
            "Requirement already satisfied: h5py in /usr/local/lib/python3.6/dist-packages (2.10.0)\n",
            "Requirement already satisfied: six in /usr/local/lib/python3.6/dist-packages (from h5py) (1.12.0)\n",
            "Requirement already satisfied: numpy>=1.7 in /usr/local/lib/python3.6/dist-packages (from h5py) (1.18.5)\n"
          ],
          "name": "stdout"
        }
      ]
    },
    {
      "cell_type": "code",
      "metadata": {
        "id": "823eh0pHOCyi",
        "colab_type": "code",
        "colab": {}
      },
      "source": [
        "class BertLayer(tf.keras.layers.Layer):\n",
        "   def __init__(\n",
        "      self,\n",
        "      bert_path=\"https://tfhub.dev/tensorflow/bert_en_uncased_L-12_H-768_A-12/1\",\n",
        "      **kwargs\n",
        "   ):\n",
        "      self.n_fine_tune_layers = 3\n",
        "      self.trainable  = True\n",
        "      #self.output_size = 768\n",
        "      self.bert_path = bert_path\n",
        "\n",
        "      super(BertLayer, self).__init__(**kwargs)\n",
        "\n",
        "   def build(self, input_shape):\n",
        "      self.bert = hub.load(\n",
        "         self.bert_path\n",
        "      )\n",
        "\n",
        "      # Remove unused layers\n",
        "      trainable_vars = self.bert.variables\n",
        "      trainable_layers = []\n",
        "      non_trainable_layers = []\n",
        "\n",
        "      # Select how many layers to fine tune\n",
        "      for i in range(self.n_fine_tune_layers):\n",
        "         trainable_layers.append(\"encoder/layer_{}\".format(11 - i))\n",
        "\n",
        "      # Update trainable vars to contain only the specified layers\n",
        "      non_trainable_vars = [\n",
        "         var\n",
        "         for var in trainable_vars\n",
        "            if all([l not in var.name for l in trainable_layers])\n",
        "      ]\n",
        "\n",
        "      trainable_vars = [\n",
        "         var\n",
        "         for var in trainable_vars\n",
        "            if any([l in var.name for l in trainable_layers])\n",
        "      ]\n",
        "      \n",
        "      for var in trainable_vars:\n",
        "         self._trainable_weights.append(var)\n",
        "\n",
        "\n",
        "      for var in non_trainable_vars:\n",
        "            self._non_trainable_weights.append(var)\n",
        "\n",
        "      super(BertLayer, self).build(input_shape)\n",
        "\n",
        "   def call(self, inputs):\n",
        "      inputs = [K.cast(x, dtype=\"int32\") for x in inputs]\n",
        "      input_ids, input_mask, segment_ids = inputs\n",
        "      bert_inputs = [\n",
        "         input_ids, input_mask, segment_ids\n",
        "      ]\n",
        "      out = self.bert(inputs=bert_inputs)[1]\n",
        "      return out\n",
        "   "
      ],
      "execution_count": null,
      "outputs": []
    },
    {
      "cell_type": "code",
      "metadata": {
        "id": "OnyMi_SSOcbR",
        "colab_type": "code",
        "colab": {}
      },
      "source": [
        "def build_model(max_seq_length, learning_rate):\n",
        "   tokenizer = BertTokenizer.from_pretrained('bert-base-uncased')\n",
        "   vocab_size = len(tokenizer.get_vocab())\n",
        "\n",
        "   input_ids = tf.keras.layers.Input(shape=(max_seq_length,), dtype=tf.int32, name=\"input_word_ids\")  \n",
        "   input_mask = tf.keras.layers.Input(shape=(max_seq_length,), dtype=tf.int32, name=\"input_mask\")\n",
        "   segment_ids = tf.keras.layers.Input(shape=(max_seq_length,), dtype=tf.int32, name=\"segment_ids\")\n",
        "\n",
        "   emb = tf.keras.layers.Embedding(input_dim=128, output_dim=128, mask_zero=True)\n",
        "   bert_inputs = [input_ids, input_mask, segment_ids]\n",
        "   bert_output = BertLayer()(bert_inputs)\n",
        "\n",
        "   dense = tf.keras.layers.Dense(vocab_size, activation='softmax')\n",
        "   td = tf.keras.layers.TimeDistributed(dense, input_shape=(max_seq_length, 768))(bert_output, mask=emb.compute_mask(input_mask))\n",
        "\n",
        "   model = tf.keras.models.Model(inputs=bert_inputs, outputs=td)\n",
        "   model.compile(loss=tf.keras.losses.SparseCategoricalCrossentropy(from_logits=False), optimizer=tf.keras.optimizers.Adam(learning_rate=learning_rate), metrics=['accuracy'])\n",
        "   model.summary()\n",
        "\n",
        "   return model"
      ],
      "execution_count": null,
      "outputs": []
    },
    {
      "cell_type": "code",
      "metadata": {
        "id": "tP3mQry4oe4L",
        "colab_type": "code",
        "colab": {
          "base_uri": "https://localhost:8080/",
          "height": 803,
          "referenced_widgets": [
            "176d9d8164d34bef95d2226b37a628c7",
            "8140662a43044790b362010dc0bf2757",
            "0ab737219bdb4cc78624691acc1e5926",
            "76fc986d4d074c53bdc46d8fbd00eefd",
            "7b3b341f70494b00814ba4898706e5f0",
            "256b2ff6161046db8f10362ffd50934b",
            "0c55f89b070d4adca556080d0a3a78e1",
            "2a868fb4b42140d2b57f7f359f8b60ee"
          ]
        },
        "outputId": "2a494090-41fc-44f8-cf0c-129963dba471"
      },
      "source": [
        "model = build_model(128, 0.00005)\n",
        "tf.keras.utils.plot_model(model, to_file=\"model.png\", show_shapes=True)\n"
      ],
      "execution_count": null,
      "outputs": [
        {
          "output_type": "display_data",
          "data": {
            "application/vnd.jupyter.widget-view+json": {
              "model_id": "176d9d8164d34bef95d2226b37a628c7",
              "version_minor": 0,
              "version_major": 2
            },
            "text/plain": [
              "HBox(children=(FloatProgress(value=0.0, description='Downloading', max=231508.0, style=ProgressStyle(descripti…"
            ]
          },
          "metadata": {
            "tags": []
          }
        },
        {
          "output_type": "stream",
          "text": [
            "INFO:absl:Using /tmp/tfhub_modules to cache modules.\n",
            "INFO:absl:Downloading TF-Hub Module 'https://tfhub.dev/tensorflow/bert_en_uncased_L-12_H-768_A-12/1'.\n"
          ],
          "name": "stderr"
        },
        {
          "output_type": "stream",
          "text": [
            "\n"
          ],
          "name": "stdout"
        },
        {
          "output_type": "stream",
          "text": [
            "INFO:absl:Downloaded https://tfhub.dev/tensorflow/bert_en_uncased_L-12_H-768_A-12/1, Total size: 423.26MB\n",
            "INFO:absl:Downloaded TF-Hub Module 'https://tfhub.dev/tensorflow/bert_en_uncased_L-12_H-768_A-12/1'.\n"
          ],
          "name": "stderr"
        },
        {
          "output_type": "stream",
          "text": [
            "Model: \"model\"\n",
            "__________________________________________________________________________________________________\n",
            "Layer (type)                    Output Shape         Param #     Connected to                     \n",
            "==================================================================================================\n",
            "input_word_ids (InputLayer)     [(None, 128)]        0                                            \n",
            "__________________________________________________________________________________________________\n",
            "input_mask (InputLayer)         [(None, 128)]        0                                            \n",
            "__________________________________________________________________________________________________\n",
            "segment_ids (InputLayer)        [(None, 128)]        0                                            \n",
            "__________________________________________________________________________________________________\n",
            "bert_layer (BertLayer)          (None, None, 768)    109482241   input_word_ids[0][0]             \n",
            "                                                                 input_mask[0][0]                 \n",
            "                                                                 segment_ids[0][0]                \n",
            "__________________________________________________________________________________________________\n",
            "tf_op_layer_NotEqual (TensorFlo [(None, 128)]        0           input_mask[0][0]                 \n",
            "__________________________________________________________________________________________________\n",
            "time_distributed (TimeDistribut (None, None, 30522)  23471418    bert_layer[0][0]                 \n",
            "==================================================================================================\n",
            "Total params: 132,953,659\n",
            "Trainable params: 44,735,034\n",
            "Non-trainable params: 88,218,625\n",
            "__________________________________________________________________________________________________\n"
          ],
          "name": "stdout"
        },
        {
          "output_type": "execute_result",
          "data": {
            "image/png": "[encoded data removed]",
            "text/plain": [
              "<IPython.core.display.Image object>"
            ]
          },
          "metadata": {
            "tags": []
          },
          "execution_count": 7
        }
      ]
    },
    {
      "cell_type": "code",
      "metadata": {
        "id": "U3u-Z9gLjIMj",
        "colab_type": "code",
        "colab": {}
      },
      "source": [
        "def load_data():\n",
        "    data, info = tfds.load(\"squad\", with_info=True)\n",
        "    print(info)\n",
        "    data = SquadV1Processor().get_examples_from_dataset(data, evaluate=False)\n",
        "    return data"
      ],
      "execution_count": null,
      "outputs": []
    },
    {
      "cell_type": "code",
      "metadata": {
        "id": "S0IyYpP8kePR",
        "colab_type": "code",
        "colab": {}
      },
      "source": [
        "def extract_and_tokenize(data, max_seq_length):\n",
        "    tokenizer = BertTokenizer.from_pretrained('bert-base-uncased')\n",
        "\n",
        "    get_questions = lambda q: q.question_text\n",
        "    get_answers = lambda q: q.answer_text\n",
        "\n",
        "    answers = tokenize(data, get_answers)\n",
        "    questions = tokenize(data, get_questions)\n",
        "    masks = []\n",
        "    segments = []\n",
        "    answers_input = []\n",
        "\n",
        "    for i in range(len(data)):\n",
        "       mask = []\n",
        "       segment = []\n",
        "       answer = []\n",
        "\n",
        "       answer.extend(questions[i] + answers[i][1:])\n",
        "       answers_input.append(answer)\n",
        "\n",
        "       segment.extend([0] * len(questions[i]))\n",
        "       segment.extend([1] * (len(answers[i]) - 1))\n",
        "       segment.extend([0] * (max_seq_length - len(segment)))\n",
        "       segments.append(segment)\n",
        "\n",
        "       questions[i].extend([\"[MASK]\"] * (len(answers[i]) - 2) + [\"[SEP]\"])\n",
        "       mask.extend([1] * len(questions[i]))\n",
        "       mask.extend([0] * (max_seq_length - len(mask)))\n",
        "       masks.append(mask)\n",
        "\n",
        "\n",
        "    questions = map(lambda q: tokenizer.convert_tokens_to_ids(q), questions)\n",
        "    questions = list(questions)\n",
        "    answers = map(lambda q: tokenizer.convert_tokens_to_ids(q), answers_input)\n",
        "    \n",
        "    answers = list(answers)\n",
        "\n",
        "    for i in range(len(data)):\n",
        "       questions[i].extend([0] * (max_seq_length - len(questions[i])))\n",
        "       answers[i].extend([0] * (max_seq_length - len(answers[i])))\n",
        "\n",
        "    return questions, masks, segments, answers"
      ],
      "execution_count": null,
      "outputs": []
    },
    {
      "cell_type": "code",
      "metadata": {
        "id": "U5ec3zdJNKH3",
        "colab_type": "code",
        "colab": {}
      },
      "source": [
        "def extract_and_tokenize_v2(data, max_seq_length):\n",
        "    tokenizer = BertTokenizer.from_pretrained('bert-base-uncased')\n",
        "\n",
        "    get_questions = lambda q: q.question_text\n",
        "    get_answers = lambda q: q.answer_text\n",
        "\n",
        "    answers = tokenize_v2(data, get_answers)\n",
        "    questions = tokenize_v2(data, get_questions)\n",
        "    masks = []\n",
        "    segments = []\n",
        "    answers_input = []\n",
        "\n",
        "    for i in range(len(data)):\n",
        "       mask = []\n",
        "       segment = []\n",
        "       answer = []\n",
        "\n",
        "       answer.extend(questions[i] + [\"[SEP]\"] + answers[i][1:])\n",
        "       answer.extend([\"[PAD]\"] * (21 - len(answers[i])) + [\"[SEP]\"])\n",
        "       answers_input.append(answer)\n",
        "\n",
        "       segment.extend([0] * len(questions[i]) + [0])\n",
        "       segment.extend([1] * 21)\n",
        "       segment.extend([0] * (max_seq_length - len(segment)))\n",
        "       segments.append(segment)\n",
        "\n",
        "       questions[i].extend([\"[SEP]\"] + [\"[MASK]\"] * 20 + [\"[SEP]\"])\n",
        "       mask.extend([1] * len(questions[i]))\n",
        "       mask.extend([0] * (max_seq_length - len(mask)))\n",
        "       masks.append(mask)\n",
        "\n",
        "    questions = map(lambda q: tokenizer.convert_tokens_to_ids(q), questions)\n",
        "    questions = list(questions)\n",
        "    answers = map(lambda q: tokenizer.convert_tokens_to_ids(q), answers_input)\n",
        "    \n",
        "    answers = list(answers)\n",
        "\n",
        "    for i in range(len(data)):\n",
        "       questions[i].extend([0] * (max_seq_length - len(questions[i])))\n",
        "       answers[i].extend([0] * (max_seq_length - len(answers[i])))\n",
        "    \n",
        "    return questions, masks, segments, answers"
      ],
      "execution_count": null,
      "outputs": []
    },
    {
      "cell_type": "code",
      "metadata": {
        "id": "Fk7jXusMAc0Z",
        "colab_type": "code",
        "colab": {}
      },
      "source": [
        "def tokenize(data, function):\n",
        "    tokenizer = BertTokenizer.from_pretrained('bert-base-uncased')\n",
        "\n",
        "    data = map(function, data)\n",
        "    data = list(data)\n",
        "    data = map(tokenizer.tokenize, data)\n",
        "    data = list(data)\n",
        "    result = []\n",
        "    for item in data:\n",
        "        tokens = []\n",
        "        tokens.append(\"[CLS]\")\n",
        "        tokens.extend(item)\n",
        "        tokens.append(\"[SEP]\")\n",
        "        result.append(tokens)\n",
        "\n",
        "    return result"
      ],
      "execution_count": null,
      "outputs": []
    },
    {
      "cell_type": "code",
      "metadata": {
        "id": "YY3Chy21Ns4Z",
        "colab_type": "code",
        "colab": {}
      },
      "source": [
        "def tokenize_v2(data, function):\n",
        "    tokenizer = BertTokenizer.from_pretrained('bert-base-uncased')\n",
        "\n",
        "    data = map(function, data)\n",
        "    data = list(data)\n",
        "    data = map(tokenizer.tokenize, data)\n",
        "    data = list(data)\n",
        "    result = []\n",
        "    for item in data:\n",
        "        tokens = []\n",
        "        tokens.append(\"[CLS]\")\n",
        "        tokens.extend(item)\n",
        "        result.append(tokens)\n",
        "\n",
        "    return result"
      ],
      "execution_count": null,
      "outputs": []
    },
    {
      "cell_type": "code",
      "metadata": {
        "id": "4qfxXzamKRmE",
        "colab_type": "code",
        "colab": {}
      },
      "source": [
        "def tokenize_test(data, function):\n",
        "    tokenizer = BertTokenizer.from_pretrained('bert-base-uncased')\n",
        "\n",
        "    data = map(function, data)\n",
        "    data = list(data)\n",
        "    data = map(tokenizer.tokenize, data)\n",
        "    data = list(data)\n",
        "    result = []\n",
        "    for item in data:\n",
        "        tokens = []\n",
        "        tokens.extend(item)\n",
        "        result.append(tokens)\n",
        "\n",
        "    return result\n"
      ],
      "execution_count": null,
      "outputs": []
    },
    {
      "cell_type": "code",
      "metadata": {
        "id": "-vi2r4jyKgH3",
        "colab_type": "code",
        "colab": {}
      },
      "source": [
        "def prep_test(data, max_seq_length):\n",
        "    tokenizer = BertTokenizer.from_pretrained('bert-base-uncased')\n",
        "\n",
        "    get_questions = lambda q: q.question_text\n",
        "    get_answers = lambda q: q.answer_text\n",
        "\n",
        "    answers = tokenize(data, get_answers)\n",
        "    questions = tokenize(data, get_questions)\n",
        "    masks = []\n",
        "    segments = []\n",
        "\n",
        "    for i in range(len(data)):\n",
        "       mask = []\n",
        "       segment = []\n",
        "\n",
        "       segment.extend([0] * len(questions[i]))\n",
        "       segment.extend([1] * (len(answers[i]) - 1))\n",
        "       segment.extend([0] * (max_seq_length - len(segment)))\n",
        "       segments.append(segment)\n",
        "\n",
        "       questions[i].extend([\"[MASK]\"] * (len(answers[i]) - 2) + [\"[SEP]\"])\n",
        "       mask.extend([1] * len(questions[i]))\n",
        "       mask.extend([0] * (max_seq_length - len(mask)))\n",
        "       masks.append(mask)\n",
        "\n",
        "\n",
        "    questions = map(lambda q: tokenizer.convert_tokens_to_ids(q), questions)\n",
        "    questions = list(questions)\n",
        "    answers = tokenize_test(data, get_answers)\n",
        "    answers = map(lambda q: tokenizer.convert_tokens_to_ids(q), answers)\n",
        "    \n",
        "    answers = list(answers)\n",
        "\n",
        "    for i in range(len(data)):\n",
        "       questions[i].extend([0] * (max_seq_length - len(questions[i])))\n",
        "\n",
        "    return questions, masks, segments, answers"
      ],
      "execution_count": null,
      "outputs": []
    },
    {
      "cell_type": "code",
      "metadata": {
        "id": "W-Y82bU4mF9x",
        "colab_type": "code",
        "colab": {}
      },
      "source": [
        "def prepare_input(input_ids, masks, segments, answers):   \n",
        "    input_masks = np.asarray(masks)\n",
        "    input_segments = np.asarray(segments)\n",
        "    input_ids = np.asarray(input_ids)\n",
        "    answers = np.asarray(answers)\n",
        "\n",
        "    return [input_ids, input_masks, input_segments], answers"
      ],
      "execution_count": null,
      "outputs": []
    },
    {
      "cell_type": "code",
      "metadata": {
        "id": "QNUwA-lqOiRd",
        "colab_type": "code",
        "colab": {
          "base_uri": "https://localhost:8080/",
          "height": 1000,
          "referenced_widgets": [
            "d3c7b843bcf8421c8d71ba2992b9f586",
            "d79cef3b1b6b4471880641747e5067da",
            "78729154b9144358982e3e14339c8c28",
            "a840692268474dbbbcc5b52801360a15",
            "34ebf3c25cef4a698eeecb134c9357bb",
            "cc37157752444a38b90729c560a4a70a",
            "703c2cfb3dd44d4dbace39379bf9b7b5",
            "1fc63d719f1343cfb14a361852a1dfc9",
            "966ee60cc8c447b48b8cd89ff52034b2",
            "dbc51bf568f245cc9ba1d5c7a2b2a499",
            "ac976d95f3a143f88eb98f41cb607e5d",
            "9a71f24c57dc401c80336041d5e4422d",
            "02d961da358345ffb0b3252d7f6b1eee",
            "e24fd13f1bf04fd89f51235b51dd7a56",
            "fb6caef1ccc7439597f1dd578b1588b8",
            "fe8560c1da9e453eab000704ef9648e8",
            "025e08b2b3da4cb9b8ae6e0d9b16d6f3",
            "2bf27fe89b4646618022ad0230150003",
            "0c9fe8755c674ae08175cb78696139df",
            "294d4e5175c64e1682989a34670cd2a1",
            "6712f03a9efa474d8d98c0421aad3c96",
            "f6d65a9969c24a52bebe825bf03492d2",
            "e0a4ae6676d545e9a1fc3bcf11936c9e",
            "4ab80c2c27e94490a0a542e1bb528697",
            "1c025df7439d408999a26e980c5bc902",
            "5cd7d8c4f0024a609072a00fb9ca67f6",
            "9d125ae33f504df79de1733de982253a",
            "2943145b94a2470e83c9cddfb47f53d2",
            "a81c5f089d2c4cf5864becbd714945af",
            "ae7ca5e8f5ba467cb4b7a370992dc06a",
            "682cc59b57564c7ea541291d8dfa4409",
            "a630febd21d44233ab7672ee9631ce1c",
            "403fa126826c460e9429457230a61b38",
            "3b37adcf2d254c0eaee9656ae8f428e2",
            "cad9190ba4be4975b77b39593174f2e2",
            "2f5ff20ff02942b5a339030c784b7445",
            "80137cfdbc8f4bd8ad1761fbb24cc1f2",
            "1139e52970634f4c84cb01d355879bd6",
            "527b3a44730847a998ba7da63600dcbb",
            "b0b4e2035a4c4801a413243c840f1315",
            "15ca34e6fa54438da009a4b0a5148c46",
            "a254bca1e34542999d43af79f3305603",
            "e262d7cb1f8d4ad59cded7f31769a0a4",
            "9a60c1024f1f4f2b99f54308344c66e3",
            "5d6b89afea10401cbd149fadc7fa1dcc",
            "3c92d77a2bbc4165a2482e6b6a9c6c6e",
            "a19495b262814573b78bb728dca0031d",
            "a8cbff41e2fa46c58cdc93e407cfe1fa",
            "fa54831a802843ed9ec509e68db3877e",
            "72533f1004414e18986669bbc815298c",
            "91017997ceed478b8e26e6112239aaa6",
            "f02a74f8bd0e4076b607b131749f16d0",
            "76c6308654d2423f95b1848082737975",
            "0879f7432bc6496f8bda2f721e6fb31c",
            "9ed4e1d148574e3eabf44c97dd7adaf2",
            "0f9bbd960de4447bbdd63ec548b4d9c1"
          ]
        },
        "outputId": "85c51e5e-d385-4276-bd19-dcad58d002bf"
      },
      "source": [
        "data = load_data()"
      ],
      "execution_count": null,
      "outputs": [
        {
          "output_type": "stream",
          "text": [
            "INFO:absl:No config specified, defaulting to first: squad/plain_text\n",
            "INFO:absl:Load pre-computed datasetinfo (eg: splits) from bucket.\n",
            "INFO:absl:Loading info from GCS for squad/plain_text/1.0.0\n",
            "INFO:absl:Generating dataset squad (/root/tensorflow_datasets/squad/plain_text/1.0.0)\n"
          ],
          "name": "stderr"
        },
        {
          "output_type": "stream",
          "text": [
            "\u001b[1mDownloading and preparing dataset squad/plain_text/1.0.0 (download: 33.51 MiB, generated: Unknown size, total: 33.51 MiB) to /root/tensorflow_datasets/squad/plain_text/1.0.0...\u001b[0m\n"
          ],
          "name": "stdout"
        },
        {
          "output_type": "display_data",
          "data": {
            "application/vnd.jupyter.widget-view+json": {
              "model_id": "d3c7b843bcf8421c8d71ba2992b9f586",
              "version_minor": 0,
              "version_major": 2
            },
            "text/plain": [
              "HBox(children=(FloatProgress(value=1.0, bar_style='info', description='Dl Completed...', max=1.0, style=Progre…"
            ]
          },
          "metadata": {
            "tags": []
          }
        },
        {
          "output_type": "display_data",
          "data": {
            "application/vnd.jupyter.widget-view+json": {
              "model_id": "966ee60cc8c447b48b8cd89ff52034b2",
              "version_minor": 0,
              "version_major": 2
            },
            "text/plain": [
              "HBox(children=(FloatProgress(value=1.0, bar_style='info', description='Dl Size...', max=1.0, style=ProgressSty…"
            ]
          },
          "metadata": {
            "tags": []
          }
        },
        {
          "output_type": "display_data",
          "data": {
            "application/vnd.jupyter.widget-view+json": {
              "model_id": "025e08b2b3da4cb9b8ae6e0d9b16d6f3",
              "version_minor": 0,
              "version_major": 2
            },
            "text/plain": [
              "HBox(children=(FloatProgress(value=1.0, bar_style='info', description='Extraction completed...', max=1.0, styl…"
            ]
          },
          "metadata": {
            "tags": []
          }
        },
        {
          "output_type": "stream",
          "text": [
            "INFO:absl:Downloading https://rajpurkar.github.io/SQuAD-explorer/dataset/train-v1.1.json into /root/tensorflow_datasets/downloads/rajpurkar_SQuAD-explorer_train-v1.1uLsZc14btZFRCgHMAy9Mn5abwO6wga4bMozTBvOyQAg.json.tmp.25b68409697849e98c2d84cebfb3a8a9...\n",
            "INFO:absl:Downloading https://rajpurkar.github.io/SQuAD-explorer/dataset/dev-v1.1.json into /root/tensorflow_datasets/downloads/rajpurkar_SQuAD-explorer_dev-v1.1nVRimH71-BT-FaNpwXJPbsOaIBizticanX0lmGhsov8.json.tmp.aa05c6fd5beb40a68a57525bab36192b...\n",
            "/usr/local/lib/python3.6/dist-packages/urllib3/connectionpool.py:847: InsecureRequestWarning: Unverified HTTPS request is being made. Adding certificate verification is strongly advised. See: https://urllib3.readthedocs.io/en/latest/advanced-usage.html#ssl-warnings\n",
            "  InsecureRequestWarning)\n",
            "/usr/local/lib/python3.6/dist-packages/urllib3/connectionpool.py:847: InsecureRequestWarning: Unverified HTTPS request is being made. Adding certificate verification is strongly advised. See: https://urllib3.readthedocs.io/en/latest/advanced-usage.html#ssl-warnings\n",
            "  InsecureRequestWarning)\n",
            "INFO:absl:Skipping extraction for /root/tensorflow_datasets/downloads/rajpurkar_SQuAD-explorer_dev-v1.1lapqUtXWpzVWM2Z1PKUEkqZYAx2nTzAaxSOLA5Zpcsk.json (method=NO_EXTRACT).\n",
            "INFO:absl:Skipping extraction for /root/tensorflow_datasets/downloads/rajpurkar_SQuAD-explorer_train-v1.1NSdmOYa4KVr09_zf8bof8_ctB9YaIPSHyyOKbvkv2VU.json (method=NO_EXTRACT).\n",
            "INFO:absl:Generating split train\n"
          ],
          "name": "stderr"
        },
        {
          "output_type": "stream",
          "text": [
            "\n",
            "\n",
            "\n",
            "\n",
            "\n",
            "\n"
          ],
          "name": "stdout"
        },
        {
          "output_type": "display_data",
          "data": {
            "application/vnd.jupyter.widget-view+json": {
              "model_id": "1c025df7439d408999a26e980c5bc902",
              "version_minor": 0,
              "version_major": 2
            },
            "text/plain": [
              "HBox(children=(FloatProgress(value=1.0, bar_style='info', max=1.0), HTML(value='')))"
            ]
          },
          "metadata": {
            "tags": []
          }
        },
        {
          "output_type": "stream",
          "text": [
            "INFO:absl:generating examples from = /root/tensorflow_datasets/downloads/rajpurkar_SQuAD-explorer_train-v1.1NSdmOYa4KVr09_zf8bof8_ctB9YaIPSHyyOKbvkv2VU.json\n"
          ],
          "name": "stderr"
        },
        {
          "output_type": "stream",
          "text": [
            "\rShuffling and writing examples to /root/tensorflow_datasets/squad/plain_text/1.0.0.incompleteHCF3H2/squad-train.tfrecord\n"
          ],
          "name": "stdout"
        },
        {
          "output_type": "display_data",
          "data": {
            "application/vnd.jupyter.widget-view+json": {
              "model_id": "403fa126826c460e9429457230a61b38",
              "version_minor": 0,
              "version_major": 2
            },
            "text/plain": [
              "HBox(children=(FloatProgress(value=0.0, max=87599.0), HTML(value='')))"
            ]
          },
          "metadata": {
            "tags": []
          }
        },
        {
          "output_type": "stream",
          "text": [
            "INFO:absl:Done writing /root/tensorflow_datasets/squad/plain_text/1.0.0.incompleteHCF3H2/squad-train.tfrecord. Shard lengths: [87599]\n",
            "INFO:absl:Generating split validation\n"
          ],
          "name": "stderr"
        },
        {
          "output_type": "stream",
          "text": [
            "\r"
          ],
          "name": "stdout"
        },
        {
          "output_type": "display_data",
          "data": {
            "application/vnd.jupyter.widget-view+json": {
              "model_id": "15ca34e6fa54438da009a4b0a5148c46",
              "version_minor": 0,
              "version_major": 2
            },
            "text/plain": [
              "HBox(children=(FloatProgress(value=1.0, bar_style='info', max=1.0), HTML(value='')))"
            ]
          },
          "metadata": {
            "tags": []
          }
        },
        {
          "output_type": "stream",
          "text": [
            "INFO:absl:generating examples from = /root/tensorflow_datasets/downloads/rajpurkar_SQuAD-explorer_dev-v1.1lapqUtXWpzVWM2Z1PKUEkqZYAx2nTzAaxSOLA5Zpcsk.json\n"
          ],
          "name": "stderr"
        },
        {
          "output_type": "stream",
          "text": [
            "\rShuffling and writing examples to /root/tensorflow_datasets/squad/plain_text/1.0.0.incompleteHCF3H2/squad-validation.tfrecord\n"
          ],
          "name": "stdout"
        },
        {
          "output_type": "display_data",
          "data": {
            "application/vnd.jupyter.widget-view+json": {
              "model_id": "fa54831a802843ed9ec509e68db3877e",
              "version_minor": 0,
              "version_major": 2
            },
            "text/plain": [
              "HBox(children=(FloatProgress(value=0.0, max=10570.0), HTML(value='')))"
            ]
          },
          "metadata": {
            "tags": []
          }
        },
        {
          "output_type": "stream",
          "text": [
            "INFO:absl:Done writing /root/tensorflow_datasets/squad/plain_text/1.0.0.incompleteHCF3H2/squad-validation.tfrecord. Shard lengths: [10570]\n",
            "INFO:absl:Skipping computing stats for mode ComputeStatsMode.AUTO.\n",
            "INFO:absl:Constructing tf.data.Dataset for split None, from /root/tensorflow_datasets/squad/plain_text/1.0.0\n",
            "0it [00:00, ?it/s]"
          ],
          "name": "stderr"
        },
        {
          "output_type": "stream",
          "text": [
            "\u001b[1mDataset squad downloaded and prepared to /root/tensorflow_datasets/squad/plain_text/1.0.0. Subsequent calls will reuse this data.\u001b[0m\n",
            "\rtfds.core.DatasetInfo(\n",
            "    name='squad',\n",
            "    version=1.0.0,\n",
            "    description='Stanford Question Answering Dataset (SQuAD) is a reading comprehension dataset, consisting of questions posed by crowdworkers on a set of Wikipedia articles, where the answer to every question is a segment of text, or span, from the corresponding reading passage, or the question might be unanswerable.\n",
            "',\n",
            "    homepage='https://rajpurkar.github.io/SQuAD-explorer/',\n",
            "    features=FeaturesDict({\n",
            "        'answers': Sequence({\n",
            "            'answer_start': tf.int32,\n",
            "            'text': Text(shape=(), dtype=tf.string),\n",
            "        }),\n",
            "        'context': Text(shape=(), dtype=tf.string),\n",
            "        'id': tf.string,\n",
            "        'question': Text(shape=(), dtype=tf.string),\n",
            "        'title': Text(shape=(), dtype=tf.string),\n",
            "    }),\n",
            "    total_num_examples=98169,\n",
            "    splits={\n",
            "        'train': 87599,\n",
            "        'validation': 10570,\n",
            "    },\n",
            "    supervised_keys=None,\n",
            "    citation=\"\"\"@article{2016arXiv160605250R,\n",
            "           author = {{Rajpurkar}, Pranav and {Zhang}, Jian and {Lopyrev},\n",
            "                     Konstantin and {Liang}, Percy},\n",
            "            title = \"{SQuAD: 100,000+ Questions for Machine Comprehension of Text}\",\n",
            "          journal = {arXiv e-prints},\n",
            "             year = 2016,\n",
            "              eid = {arXiv:1606.05250},\n",
            "            pages = {arXiv:1606.05250},\n",
            "    archivePrefix = {arXiv},\n",
            "           eprint = {1606.05250},\n",
            "    }\"\"\",\n",
            "    redistribution_info=,\n",
            ")\n",
            "\n"
          ],
          "name": "stdout"
        },
        {
          "output_type": "stream",
          "text": [
            "87599it [01:13, 1197.19it/s]\n"
          ],
          "name": "stderr"
        }
      ]
    },
    {
      "cell_type": "code",
      "metadata": {
        "id": "Uv0wTZKfw8k1",
        "colab_type": "code",
        "colab": {}
      },
      "source": [
        "train_data = data[:int(len(data) * 0.8)]\n",
        "test_data = data[int(len(data) * 0.8):]"
      ],
      "execution_count": null,
      "outputs": []
    },
    {
      "cell_type": "code",
      "metadata": {
        "id": "n8Cc4LEI04Td",
        "colab_type": "code",
        "colab": {}
      },
      "source": [
        "input_ids, masks, segments, answers = extract_and_tokenize(train_data, 128)\n",
        "#test_input_ids, test_masks, test_segments, test_answers = extract_and_tokenize(test_data, 128)"
      ],
      "execution_count": null,
      "outputs": []
    },
    {
      "cell_type": "code",
      "metadata": {
        "id": "RZc8sObBLAge",
        "colab_type": "code",
        "colab": {}
      },
      "source": [
        "test_input_ids, test_masks, test_segments, test_answers = prep_test(test_data, 128)"
      ],
      "execution_count": null,
      "outputs": []
    },
    {
      "cell_type": "code",
      "metadata": {
        "id": "lEzuiBdQyv8k",
        "colab_type": "code",
        "colab": {}
      },
      "source": [
        "def prepare_to_eval(x, y, z, ans):\n",
        "   res = []\n",
        "   for i in range(len(x)):\n",
        "      tokens = np.asarray([x[i]])\n",
        "      masks = np.asarray([y[i]])\n",
        "      segments = np.asarray([z[i]])\n",
        "      res.append([tokens, masks, segments])\n",
        "   answers = np.asarray(ans)\n",
        "   return res, answers\n",
        "   "
      ],
      "execution_count": null,
      "outputs": []
    },
    {
      "cell_type": "code",
      "metadata": {
        "id": "YTz3jUVyIAM2",
        "colab_type": "code",
        "colab": {}
      },
      "source": [
        "inputs, answers = prepare_input(input_ids, masks, segments, answers)\n",
        "test_inputs, test_answers = prepare_to_eval(test_input_ids, test_masks, test_segments, test_answers)\n"
      ],
      "execution_count": null,
      "outputs": []
    },
    {
      "cell_type": "code",
      "metadata": {
        "id": "xbWqDHPozQTq",
        "colab_type": "code",
        "colab": {}
      },
      "source": [
        "#test_inputs = prepare_to_eval(test_inputs)"
      ],
      "execution_count": null,
      "outputs": []
    },
    {
      "cell_type": "code",
      "metadata": {
        "id": "lZkRlqo885k6",
        "colab_type": "code",
        "colab": {
          "base_uri": "https://localhost:8080/",
          "height": 442
        },
        "outputId": "33570567-9ad5-4b19-935b-bb1af69668a1"
      },
      "source": [
        "print(test_inputs[0])"
      ],
      "execution_count": null,
      "outputs": [
        {
          "output_type": "stream",
          "text": [
            "[array([[  101,  2054,  3019, 18665,  2020, 10066,  1999, 19181, 26200,\n",
            "         2078,  2221,  1029,   102,   103,   103,   102,     0,     0,\n",
            "            0,     0,     0,     0,     0,     0,     0,     0,     0,\n",
            "            0,     0,     0,     0,     0,     0,     0,     0,     0,\n",
            "            0,     0,     0,     0,     0,     0,     0,     0,     0,\n",
            "            0,     0,     0,     0,     0,     0,     0,     0,     0,\n",
            "            0,     0,     0,     0,     0,     0,     0,     0,     0,\n",
            "            0,     0,     0,     0,     0,     0,     0,     0,     0,\n",
            "            0,     0,     0,     0,     0,     0,     0,     0,     0,\n",
            "            0,     0,     0,     0,     0,     0,     0,     0,     0,\n",
            "            0,     0,     0,     0,     0,     0,     0,     0,     0,\n",
            "            0,     0,     0,     0,     0,     0,     0,     0,     0,\n",
            "            0,     0,     0,     0,     0,     0,     0,     0,     0,\n",
            "            0,     0,     0,     0,     0,     0,     0,     0,     0,\n",
            "            0,     0]]), array([[1, 1, 1, 1, 1, 1, 1, 1, 1, 1, 1, 1, 1, 1, 1, 1, 0, 0, 0, 0, 0, 0,\n",
            "        0, 0, 0, 0, 0, 0, 0, 0, 0, 0, 0, 0, 0, 0, 0, 0, 0, 0, 0, 0, 0, 0,\n",
            "        0, 0, 0, 0, 0, 0, 0, 0, 0, 0, 0, 0, 0, 0, 0, 0, 0, 0, 0, 0, 0, 0,\n",
            "        0, 0, 0, 0, 0, 0, 0, 0, 0, 0, 0, 0, 0, 0, 0, 0, 0, 0, 0, 0, 0, 0,\n",
            "        0, 0, 0, 0, 0, 0, 0, 0, 0, 0, 0, 0, 0, 0, 0, 0, 0, 0, 0, 0, 0, 0,\n",
            "        0, 0, 0, 0, 0, 0, 0, 0, 0, 0, 0, 0, 0, 0, 0, 0, 0, 0]]), array([[0, 0, 0, 0, 0, 0, 0, 0, 0, 0, 0, 0, 0, 1, 1, 1, 0, 0, 0, 0, 0, 0,\n",
            "        0, 0, 0, 0, 0, 0, 0, 0, 0, 0, 0, 0, 0, 0, 0, 0, 0, 0, 0, 0, 0, 0,\n",
            "        0, 0, 0, 0, 0, 0, 0, 0, 0, 0, 0, 0, 0, 0, 0, 0, 0, 0, 0, 0, 0, 0,\n",
            "        0, 0, 0, 0, 0, 0, 0, 0, 0, 0, 0, 0, 0, 0, 0, 0, 0, 0, 0, 0, 0, 0,\n",
            "        0, 0, 0, 0, 0, 0, 0, 0, 0, 0, 0, 0, 0, 0, 0, 0, 0, 0, 0, 0, 0, 0,\n",
            "        0, 0, 0, 0, 0, 0, 0, 0, 0, 0, 0, 0, 0, 0, 0, 0, 0, 0]])]\n"
          ],
          "name": "stdout"
        }
      ]
    },
    {
      "cell_type": "code",
      "metadata": {
        "id": "cjX4r2Ruoh3L",
        "colab_type": "code",
        "colab": {}
      },
      "source": [
        "checkpoint_path = \"training/cp.ckpt\"\n",
        "checkpoint_dir = os.path.dirname(checkpoint_path)\n",
        "\n",
        "# Create a callback that saves the model's weights\n",
        "cp_callback = tf.keras.callbacks.ModelCheckpoint(filepath=checkpoint_path,\n",
        "                                                 save_weights_only=True,\n",
        "                                                 verbose=1)\n",
        "tb_callback = tf.keras.callbacks.TensorBoard(log_dir=\"./logs\")\n"
      ],
      "execution_count": null,
      "outputs": []
    },
    {
      "cell_type": "code",
      "metadata": {
        "id": "A7Twg2oOQmcV",
        "colab_type": "code",
        "colab": {}
      },
      "source": [
        "class F1_metrics(tf.keras.callbacks.Callback):\n",
        "   def on_epoch_end(self, epoch, logs=None):\n",
        "      myeval()\n",
        "      #print('The average loss for epoch {} is {:7.2f} and mean absolute error is {:7.2f}.'.format(epoch, logs['loss'], logs['mae']))\n",
        "\n",
        "evaluate = F1_metrics()"
      ],
      "execution_count": null,
      "outputs": []
    },
    {
      "cell_type": "code",
      "metadata": {
        "id": "LSTdSUE5j2vh",
        "colab_type": "code",
        "colab": {}
      },
      "source": [
        "def model_out(x):\n",
        "   seg = x[2]\n",
        "   y = model.predict(x)\n",
        "   y = np.argmax(y, axis=-1)\n",
        "   y = np.multiply(y[0], seg)\n",
        "   \n",
        "   y = np.trim_zeros(np.asarray(y[0]))\n",
        "   #print(y)\n",
        "   return y"
      ],
      "execution_count": null,
      "outputs": []
    },
    {
      "cell_type": "code",
      "metadata": {
        "id": "6cANARe9jVJo",
        "colab_type": "code",
        "colab": {}
      },
      "source": [
        "def normalize_answer(s):\n",
        "    tokenizer = BertTokenizer.from_pretrained('bert-base-uncased')\n",
        "    def remove_articles(s):\n",
        "        art = \"a an the\"\n",
        "        art = tokenizer.tokenize(art)\n",
        "        art = tokenizer.convert_tokens_to_ids(art)\n",
        "        for a in art:\n",
        "           s = s[s != a]\n",
        "        return s\n",
        "\n",
        "    def remove_punc(s):\n",
        "        art = \". , : - ' \\\" ! ?\"\n",
        "        art = tokenizer.tokenize(art)\n",
        "        art = tokenizer.convert_tokens_to_ids(art)\n",
        "        for a in art:\n",
        "           s = s[s != a]\n",
        "        return s\n",
        "    return remove_articles(remove_punc(s))\n"
      ],
      "execution_count": null,
      "outputs": []
    },
    {
      "cell_type": "code",
      "metadata": {
        "id": "LsZaizH7L9Ck",
        "colab_type": "code",
        "colab": {}
      },
      "source": [
        "from collections import Counter\n",
        "def f1_score(prediction, ground_truth):\n",
        "    #prediction = np.resize(prediction, prediction.size - 1)\n",
        "    prediction = normalize_answer(prediction)\n",
        "    ground_truth = normalize_answer(ground_truth)\n",
        "    #print(prediction)\n",
        "    #print(ground_truth)\n",
        "    common = Counter(prediction) & Counter(ground_truth)\n",
        "    num_same = sum(common.values())\n",
        "    if num_same == 0:\n",
        "        return 0\n",
        "    precision = 1.0 * num_same / len(prediction)\n",
        "    recall = 1.0 * num_same / len(ground_truth)\n",
        "    f1 = (2 * precision * recall) / (precision + recall)\n",
        "    return f1"
      ],
      "execution_count": null,
      "outputs": []
    },
    {
      "cell_type": "code",
      "metadata": {
        "id": "lOPZH2e4jTAY",
        "colab_type": "code",
        "colab": {
          "base_uri": "https://localhost:8080/"
        },
        "outputId": "46db336f-4cfc-43fc-c942-6343d9f3b30b"
      },
      "source": [
        "import sys\n",
        "from tqdm import tqdm\n",
        "\n",
        "def myeval():\n",
        "   f1 = 0\n",
        "   with tqdm(total=len(test_inputs), desc=\"In progress\", bar_format=\"{l_bar}{bar} [ time left: {remaining} ]\") as pbar:\n",
        "      for i in range(len(test_inputs)):\n",
        "         f1 += f1_score(model_out(test_inputs[i]), np.asarray(test_answers[i]))\n",
        "         #print(f1)\n",
        "         pbar.update(1)\n",
        "   f1 = 100.0 * f1 / len(test_inputs)\n",
        "   print(\"F1 score: \", f1, )\n",
        "print(len(test_inputs))"
      ],
      "execution_count": null,
      "outputs": [
        {
          "output_type": "stream",
          "text": [
            "17520\n"
          ],
          "name": "stdout"
        }
      ]
    },
    {
      "cell_type": "code",
      "metadata": {
        "id": "JAbYgYxL5mT0",
        "colab_type": "code",
        "colab": {
          "base_uri": "https://localhost:8080/",
          "height": 51
        },
        "outputId": "a32658f1-052d-43e3-9c7c-4d23edcfbf63"
      },
      "source": [
        "myeval()\n"
      ],
      "execution_count": null,
      "outputs": [
        {
          "output_type": "stream",
          "text": [
            "In progress: 100%|██████████ [ time left: 00:00 ]"
          ],
          "name": "stderr"
        },
        {
          "output_type": "stream",
          "text": [
            "F1 score:  9.544668719710169\n"
          ],
          "name": "stdout"
        },
        {
          "output_type": "stream",
          "text": [
            "\n"
          ],
          "name": "stderr"
        }
      ]
    },
    {
      "cell_type": "code",
      "metadata": {
        "id": "hOwkf_vxaG7Y",
        "colab_type": "code",
        "colab": {
          "base_uri": "https://localhost:8080/",
          "height": 122
        },
        "outputId": "f24cf147-3b6d-41b6-b6ed-95ab3276012a"
      },
      "source": [
        "from google.colab import drive\n",
        "drive.mount('/content/drive')"
      ],
      "execution_count": null,
      "outputs": [
        {
          "output_type": "stream",
          "text": [
            "Go to this URL in a browser: https://accounts.google.com/o/oauth2/auth?client_id=947318989803-6bn6qk8qdgf4n4g3pfee6491hc0brc4i.apps.googleusercontent.com&redirect_uri=urn%3aietf%3awg%3aoauth%3a2.0%3aoob&response_type=code&scope=email%20https%3a%2f%2fwww.googleapis.com%2fauth%2fdocs.test%20https%3a%2f%2fwww.googleapis.com%2fauth%2fdrive%20https%3a%2f%2fwww.googleapis.com%2fauth%2fdrive.photos.readonly%20https%3a%2f%2fwww.googleapis.com%2fauth%2fpeopleapi.readonly\n",
            "\n",
            "Enter your authorization code:\n",
            "··········\n",
            "Mounted at /content/drive\n"
          ],
          "name": "stdout"
        }
      ]
    },
    {
      "cell_type": "code",
      "metadata": {
        "id": "neUbBTJaB5jj",
        "colab_type": "code",
        "colab": {
          "base_uri": "https://localhost:8080/",
          "height": 476
        },
        "outputId": "d99863c6-459b-4659-e1d4-01ca1c7b10d7"
      },
      "source": [
        "for learning_rate in [0.00002, 0.00003, 0.00005]:\n",
        "   model = build_model(128, learning_rate)\n",
        "   print(learning_rate)\n",
        "   model.fit(inputs, answers, batch_size=32, epochs=6, callbacks=[cp_callback, tb_callback])#, evaluate])"
      ],
      "execution_count": null,
      "outputs": [
        {
          "output_type": "stream",
          "text": [
            "2e-05\n",
            "WARNING:tensorflow:Model failed to serialize as JSON. Ignoring... Layer BertLayer has arguments in `__init__` and therefore must override `get_config`.\n"
          ],
          "name": "stdout"
        },
        {
          "output_type": "stream",
          "text": [
            "WARNING:tensorflow:Model failed to serialize as JSON. Ignoring... Layer BertLayer has arguments in `__init__` and therefore must override `get_config`.\n"
          ],
          "name": "stderr"
        },
        {
          "output_type": "stream",
          "text": [
            "Epoch 1/6\n",
            "2190/2190 [==============================] - ETA: 0s - loss: 0.6068 - accuracy: 0.0846\n",
            "Epoch 00001: saving model to training/cp.ckpt\n",
            "2190/2190 [==============================] - 897s 410ms/step - loss: 0.6068 - accuracy: 0.0846\n",
            "Epoch 2/6\n",
            "2190/2190 [==============================] - ETA: 0s - loss: 0.3444 - accuracy: 0.1092\n",
            "Epoch 00002: saving model to training/cp.ckpt\n",
            "2190/2190 [==============================] - 897s 410ms/step - loss: 0.3444 - accuracy: 0.1092\n",
            "Epoch 3/6\n",
            "2190/2190 [==============================] - ETA: 0s - loss: 0.2658 - accuracy: 0.1171\n",
            "Epoch 00003: saving model to training/cp.ckpt\n",
            "2190/2190 [==============================] - 898s 410ms/step - loss: 0.2658 - accuracy: 0.1171\n",
            "Epoch 4/6\n",
            "2190/2190 [==============================] - ETA: 0s - loss: 0.2225 - accuracy: 0.1210\n",
            "Epoch 00004: saving model to training/cp.ckpt\n",
            "2190/2190 [==============================] - 897s 410ms/step - loss: 0.2225 - accuracy: 0.1210\n",
            "Epoch 5/6\n",
            "2190/2190 [==============================] - ETA: 0s - loss: 0.1913 - accuracy: 0.1235\n",
            "Epoch 00005: saving model to training/cp.ckpt\n",
            "2190/2190 [==============================] - 897s 409ms/step - loss: 0.1913 - accuracy: 0.1235\n",
            "Epoch 6/6\n",
            "2190/2190 [==============================] - ETA: 0s - loss: 0.1647 - accuracy: 0.1257\n",
            "Epoch 00006: saving model to training/cp.ckpt\n",
            "2190/2190 [==============================] - 897s 410ms/step - loss: 0.1647 - accuracy: 0.1257\n"
          ],
          "name": "stdout"
        }
      ]
    },
    {
      "cell_type": "code",
      "metadata": {
        "id": "Diw9nvvJJoFM",
        "colab_type": "code",
        "colab": {}
      },
      "source": [
        "#%load_ext tensorboard\n",
        "#%tensorboard --logdir logs"
      ],
      "execution_count": null,
      "outputs": []
    },
    {
      "cell_type": "code",
      "metadata": {
        "id": "f50s8qAKBVv4",
        "colab_type": "code",
        "colab": {
          "base_uri": "https://localhost:8080/",
          "height": 391
        },
        "outputId": "63a5b024-7b80-43d7-e5fa-813c3451c17f"
      },
      "source": [
        "checkpoint_path = \"training/cp.ckpt\"\n",
        "checkpoint_dir = os.path.dirname(checkpoint_path)\n",
        "cp_callback = tf.keras.callbacks.ModelCheckpoint(filepath=checkpoint_path,\n",
        "                                                 save_weights_only=True,\n",
        "                                                 verbose=1)\n",
        "model = build_model(128, 0.00003)\n",
        "\n"
      ],
      "execution_count": null,
      "outputs": [
        {
          "output_type": "stream",
          "text": [
            "Model: \"model_1\"\n",
            "__________________________________________________________________________________________________\n",
            "Layer (type)                    Output Shape         Param #     Connected to                     \n",
            "==================================================================================================\n",
            "input_word_ids (InputLayer)     [(None, 128)]        0                                            \n",
            "__________________________________________________________________________________________________\n",
            "input_mask (InputLayer)         [(None, 128)]        0                                            \n",
            "__________________________________________________________________________________________________\n",
            "segment_ids (InputLayer)        [(None, 128)]        0                                            \n",
            "__________________________________________________________________________________________________\n",
            "bert_layer_1 (BertLayer)        (None, None, 768)    109482241   input_word_ids[0][0]             \n",
            "                                                                 input_mask[0][0]                 \n",
            "                                                                 segment_ids[0][0]                \n",
            "__________________________________________________________________________________________________\n",
            "tf_op_layer_NotEqual_1 (TensorF [(None, 128)]        0           input_mask[0][0]                 \n",
            "__________________________________________________________________________________________________\n",
            "time_distributed_1 (TimeDistrib (None, None, 30522)  23471418    bert_layer_1[0][0]               \n",
            "==================================================================================================\n",
            "Total params: 132,953,659\n",
            "Trainable params: 44,735,034\n",
            "Non-trainable params: 88,218,625\n",
            "__________________________________________________________________________________________________\n"
          ],
          "name": "stdout"
        }
      ]
    },
    {
      "cell_type": "code",
      "metadata": {
        "id": "oVTlKt8nEXTQ",
        "colab_type": "code",
        "colab": {
          "base_uri": "https://localhost:8080/",
          "height": 34
        },
        "outputId": "c3f3cb2e-8835-4962-956a-8623ab603637"
      },
      "source": [
        "\n",
        "model.load_weights(checkpoint_path)"
      ],
      "execution_count": null,
      "outputs": [
        {
          "output_type": "execute_result",
          "data": {
            "text/plain": [
              "<tensorflow.python.training.tracking.util.CheckpointLoadStatus at 0x7f39ab6915c0>"
            ]
          },
          "metadata": {
            "tags": []
          },
          "execution_count": 29
        }
      ]
    },
    {
      "cell_type": "code",
      "metadata": {
        "id": "iAw_vajb2BIV",
        "colab_type": "code",
        "colab": {}
      },
      "source": [
        "sample = \"[CLS] who is president of germany? [SEP]\"\n",
        "tokenizer = BertTokenizer.from_pretrained('bert-base-uncased')\n",
        "sample = tokenizer.tokenize(sample)\n",
        "#print(sample)\n",
        "answer = [\"[MASK]\"] * 20\n",
        "answer.append(\"[SEP]\")\n",
        "#print(sample)\n",
        "\n",
        "masks = []\n",
        "masks.append([1] * len(sample) + [1] * 21 + [0] * (128 - len(sample) - len(answer)))\n",
        "mask_input = np.asarray(masks)   \n",
        "\n",
        "seg_input = []\n",
        "#seg_input.extend([0] * len(sample) + [1] * len(answer) + [0] * (128 - len(sample) - len(answer)))\n",
        "seg_input.extend([0] * len(sample) + [1] * 20 + [0] * (128 - len(sample) - 20))\n",
        "seg_input = np.asarray([seg_input])\n",
        "\n",
        "\n",
        "sample.extend(answer)\n",
        "sample = tokenizer.convert_tokens_to_ids(sample)\n",
        "padding = [0] * (128 - len(sample))\n",
        "sample.extend(padding)\n",
        "#print(sample)\n",
        "sample = np.asarray([sample])\n",
        "print([sample, mask_input, seg_input])\n",
        "x = model.predict([sample, mask_input, seg_input])\n",
        "\n",
        "\n",
        "#x = model.predict([inputs[0][1], inputs[1][1], inputs[2][1]])\n",
        "print(x)\n",
        "x = np.argmax(x, axis=-1)\n",
        "print(x)\n",
        "x = tokenizer.convert_ids_to_tokens(x[0])\n",
        "print(x)"
      ],
      "execution_count": null,
      "outputs": []
    }
  ]
}